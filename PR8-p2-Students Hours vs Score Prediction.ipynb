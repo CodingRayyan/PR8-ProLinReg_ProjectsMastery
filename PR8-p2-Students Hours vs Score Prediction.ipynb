{
 "cells": [
  {
   "cell_type": "markdown",
   "id": "5e661775",
   "metadata": {},
   "source": [
    "# Project 2\n",
    "\n",
    "# Predicting Scores on basis of hours studied through Linear Regression.\n",
    "######\n",
    "| **Prepared by:** | Rayyan Ahmed. \n",
    "|------------------|--------------------------------------------------------------------------------|\n",
    "| **Date:**        | 29th May, 2024.                                                                |\n",
    "\n"
   ]
  },
  {
   "cell_type": "markdown",
   "id": "b6d54df2",
   "metadata": {},
   "source": [
    "###\n",
    "## Preparing DataFrame:\n",
    "###"
   ]
  },
  {
   "cell_type": "code",
   "execution_count": 1,
   "id": "a5d038e8",
   "metadata": {},
   "outputs": [
    {
     "data": {
      "text/html": [
       "<div>\n",
       "<style scoped>\n",
       "    .dataframe tbody tr th:only-of-type {\n",
       "        vertical-align: middle;\n",
       "    }\n",
       "\n",
       "    .dataframe tbody tr th {\n",
       "        vertical-align: top;\n",
       "    }\n",
       "\n",
       "    .dataframe thead th {\n",
       "        text-align: right;\n",
       "    }\n",
       "</style>\n",
       "<table border=\"1\" class=\"dataframe\">\n",
       "  <thead>\n",
       "    <tr style=\"text-align: right;\">\n",
       "      <th></th>\n",
       "      <th>Hours</th>\n",
       "      <th>Scores</th>\n",
       "    </tr>\n",
       "  </thead>\n",
       "  <tbody>\n",
       "    <tr>\n",
       "      <th>0</th>\n",
       "      <td>2.7</td>\n",
       "      <td>30</td>\n",
       "    </tr>\n",
       "    <tr>\n",
       "      <th>1</th>\n",
       "      <td>4.8</td>\n",
       "      <td>54</td>\n",
       "    </tr>\n",
       "    <tr>\n",
       "      <th>2</th>\n",
       "      <td>3.2</td>\n",
       "      <td>35</td>\n",
       "    </tr>\n",
       "    <tr>\n",
       "      <th>3</th>\n",
       "      <td>5.5</td>\n",
       "      <td>60</td>\n",
       "    </tr>\n",
       "    <tr>\n",
       "      <th>4</th>\n",
       "      <td>1.5</td>\n",
       "      <td>20</td>\n",
       "    </tr>\n",
       "    <tr>\n",
       "      <th>5</th>\n",
       "      <td>3.8</td>\n",
       "      <td>45</td>\n",
       "    </tr>\n",
       "    <tr>\n",
       "      <th>6</th>\n",
       "      <td>2.1</td>\n",
       "      <td>28</td>\n",
       "    </tr>\n",
       "    <tr>\n",
       "      <th>7</th>\n",
       "      <td>4.2</td>\n",
       "      <td>50</td>\n",
       "    </tr>\n",
       "    <tr>\n",
       "      <th>8</th>\n",
       "      <td>6.0</td>\n",
       "      <td>65</td>\n",
       "    </tr>\n",
       "    <tr>\n",
       "      <th>9</th>\n",
       "      <td>3.5</td>\n",
       "      <td>38</td>\n",
       "    </tr>\n",
       "    <tr>\n",
       "      <th>10</th>\n",
       "      <td>5.0</td>\n",
       "      <td>55</td>\n",
       "    </tr>\n",
       "    <tr>\n",
       "      <th>11</th>\n",
       "      <td>2.0</td>\n",
       "      <td>25</td>\n",
       "    </tr>\n",
       "    <tr>\n",
       "      <th>12</th>\n",
       "      <td>4.5</td>\n",
       "      <td>52</td>\n",
       "    </tr>\n",
       "    <tr>\n",
       "      <th>13</th>\n",
       "      <td>3.0</td>\n",
       "      <td>33</td>\n",
       "    </tr>\n",
       "    <tr>\n",
       "      <th>14</th>\n",
       "      <td>5.8</td>\n",
       "      <td>58</td>\n",
       "    </tr>\n",
       "    <tr>\n",
       "      <th>15</th>\n",
       "      <td>6.3</td>\n",
       "      <td>68</td>\n",
       "    </tr>\n",
       "    <tr>\n",
       "      <th>16</th>\n",
       "      <td>1.8</td>\n",
       "      <td>22</td>\n",
       "    </tr>\n",
       "    <tr>\n",
       "      <th>17</th>\n",
       "      <td>2.5</td>\n",
       "      <td>27</td>\n",
       "    </tr>\n",
       "    <tr>\n",
       "      <th>18</th>\n",
       "      <td>4.0</td>\n",
       "      <td>49</td>\n",
       "    </tr>\n",
       "    <tr>\n",
       "      <th>19</th>\n",
       "      <td>3.7</td>\n",
       "      <td>41</td>\n",
       "    </tr>\n",
       "    <tr>\n",
       "      <th>20</th>\n",
       "      <td>5.2</td>\n",
       "      <td>53</td>\n",
       "    </tr>\n",
       "    <tr>\n",
       "      <th>21</th>\n",
       "      <td>4.1</td>\n",
       "      <td>48</td>\n",
       "    </tr>\n",
       "    <tr>\n",
       "      <th>22</th>\n",
       "      <td>6.1</td>\n",
       "      <td>66</td>\n",
       "    </tr>\n",
       "    <tr>\n",
       "      <th>23</th>\n",
       "      <td>3.3</td>\n",
       "      <td>37</td>\n",
       "    </tr>\n",
       "    <tr>\n",
       "      <th>24</th>\n",
       "      <td>2.9</td>\n",
       "      <td>31</td>\n",
       "    </tr>\n",
       "  </tbody>\n",
       "</table>\n",
       "</div>"
      ],
      "text/plain": [
       "    Hours  Scores\n",
       "0     2.7      30\n",
       "1     4.8      54\n",
       "2     3.2      35\n",
       "3     5.5      60\n",
       "4     1.5      20\n",
       "5     3.8      45\n",
       "6     2.1      28\n",
       "7     4.2      50\n",
       "8     6.0      65\n",
       "9     3.5      38\n",
       "10    5.0      55\n",
       "11    2.0      25\n",
       "12    4.5      52\n",
       "13    3.0      33\n",
       "14    5.8      58\n",
       "15    6.3      68\n",
       "16    1.8      22\n",
       "17    2.5      27\n",
       "18    4.0      49\n",
       "19    3.7      41\n",
       "20    5.2      53\n",
       "21    4.1      48\n",
       "22    6.1      66\n",
       "23    3.3      37\n",
       "24    2.9      31"
      ]
     },
     "execution_count": 1,
     "metadata": {},
     "output_type": "execute_result"
    }
   ],
   "source": [
    "import pandas as pd\n",
    "\n",
    "data = {'Hours': [2.7, 4.8, 3.2, 5.5, 1.5, 3.8, 2.1, 4.2, 6.0, 3.5, 5.0, 2.0, 4.5, 3.0, 5.8, 6.3, 1.8, 2.5, 4.0, 3.7, 5.2, 4.1, 6.1, 3.3, 2.9], 'Scores': [30, 54, 35, 60, 20, 45, 28, 50, 65, 38, 55, 25, 52, 33, 58, 68, 22, 27, 49, 41, 53, 48, 66, 37, 31]}\n",
    "\n",
    "df = pd.DataFrame(data)\n",
    "df"
   ]
  },
  {
   "cell_type": "markdown",
   "id": "61f32cc6",
   "metadata": {},
   "source": [
    "###\n",
    "## Getting DataFrame's Infos:\n",
    "###"
   ]
  },
  {
   "cell_type": "code",
   "execution_count": 2,
   "id": "19638784",
   "metadata": {},
   "outputs": [
    {
     "name": "stdout",
     "output_type": "stream",
     "text": [
      "<class 'pandas.core.frame.DataFrame'>\n",
      "RangeIndex: 25 entries, 0 to 24\n",
      "Data columns (total 2 columns):\n",
      " #   Column  Non-Null Count  Dtype  \n",
      "---  ------  --------------  -----  \n",
      " 0   Hours   25 non-null     float64\n",
      " 1   Scores  25 non-null     int64  \n",
      "dtypes: float64(1), int64(1)\n",
      "memory usage: 532.0 bytes\n"
     ]
    }
   ],
   "source": [
    "df.head()\n",
    "df.tail()\n",
    "df.shape\n",
    "df.isnull()\n",
    "df.isnull().sum()\n",
    "df.describe()\n",
    "df.info()"
   ]
  },
  {
   "cell_type": "markdown",
   "id": "64ab1287",
   "metadata": {},
   "source": [
    "###\n",
    "## Plotting DataFrame:\n",
    "###"
   ]
  },
  {
   "cell_type": "code",
   "execution_count": 3,
   "id": "140d9029",
   "metadata": {},
   "outputs": [
    {
     "data": {
      "image/png": "[encoded data removed]",
      "text/plain": [
       "<Figure size 640x480 with 1 Axes>"
      ]
     },
     "metadata": {},
     "output_type": "display_data"
    }
   ],
   "source": [
    "import matplotlib.pyplot as plt\n",
    "\n",
    "df.plot( x = 'Hours', y = 'Scores', style = 'o')\n",
    "plt.title('\\nHours vs scores')\n",
    "plt.xlabel('Hours Studied')\n",
    "plt.ylabel('Scores')\n",
    "plt.grid()\n",
    "plt.show()"
   ]
  },
  {
   "cell_type": "markdown",
   "id": "8736fa70",
   "metadata": {},
   "source": [
    "###\n",
    "## Ploting DataFrame's Bar Plot:\n",
    "###"
   ]
  },
  {
   "cell_type": "code",
   "execution_count": 4,
   "id": "4f9600c5",
   "metadata": {},
   "outputs": [
    {
     "data": {
      "image/png": "[encoded data removed]",
      "text/plain": [
       "<Figure size 640x480 with 1 Axes>"
      ]
     },
     "metadata": {},
     "output_type": "display_data"
    }
   ],
   "source": [
    "df.plot( x = 'Hours', y = 'Scores', kind = 'bar', style = 'o', color = 'orange')\n",
    "plt.title('\\nHours vs scores')\n",
    "plt.xlabel('Hours Studied')\n",
    "plt.ylabel('Scores')\n",
    "plt.grid()\n",
    "plt.show()"
   ]
  },
  {
   "cell_type": "markdown",
   "id": "984af17e",
   "metadata": {},
   "source": [
    "from the above visualiazation we can clearly understand that as long the study hours increases the study scores also increases, it specifies that the independent feature hour and dependent feature score has a linear relationship."
   ]
  },
  {
   "cell_type": "markdown",
   "id": "bf620567",
   "metadata": {},
   "source": [
    "###\n",
    "## Seperating independent values (x) and dependent values (y):\n",
    "###"
   ]
  },
  {
   "cell_type": "code",
   "execution_count": 5,
   "id": "18543e6a",
   "metadata": {},
   "outputs": [],
   "source": [
    "x = df[['Hours']]\n",
    "y = df['Scores']"
   ]
  },
  {
   "cell_type": "markdown",
   "id": "d5d2a563",
   "metadata": {},
   "source": [
    "##\n",
    "## Train Test Split\n",
    "##"
   ]
  },
  {
   "cell_type": "code",
   "execution_count": 6,
   "id": "fc2205a2",
   "metadata": {},
   "outputs": [],
   "source": [
    "from sklearn.model_selection import train_test_split\n",
    "\n",
    "x_train, x_test, y_train, y_test = train_test_split( x, y, test_size = 0.2, random_state = 0)"
   ]
  },
  {
   "cell_type": "markdown",
   "id": "0586278d",
   "metadata": {},
   "source": [
    "##\n",
    "## Training Algorithm\n",
    "##"
   ]
  },
  {
   "cell_type": "code",
   "execution_count": 7,
   "id": "6783f7cb",
   "metadata": {},
   "outputs": [
    {
     "name": "stdout",
     "output_type": "stream",
     "text": [
      "Training Completed\n"
     ]
    }
   ],
   "source": [
    "from sklearn.linear_model import LinearRegression\n",
    "\n",
    "regressor = LinearRegression()\n",
    "regressor.fit( x_train, y_train )\n",
    "\n",
    "print('Training Completed')"
   ]
  },
  {
   "cell_type": "markdown",
   "id": "f45c69a6",
   "metadata": {},
   "source": [
    "###\n",
    "## Predicting values of unseen data (x_test):\n",
    "###"
   ]
  },
  {
   "cell_type": "code",
   "execution_count": 8,
   "id": "88b89097",
   "metadata": {},
   "outputs": [
    {
     "data": {
      "text/plain": [
       "array([42.59729869, 36.59266787, 41.59652688, 22.58186262, 24.58340623])"
      ]
     },
     "execution_count": 8,
     "metadata": {},
     "output_type": "execute_result"
    }
   ],
   "source": [
    "regressor.predict(x_test)"
   ]
  },
  {
   "cell_type": "markdown",
   "id": "e7eb33d0",
   "metadata": {},
   "source": [
    "###\n",
    "## DataFrame of Actual unseen values (y_test) and Predicted unseen values (regressor.predict(x_test)):\n",
    "###"
   ]
  },
  {
   "cell_type": "code",
   "execution_count": 9,
   "id": "fc8ee0d4",
   "metadata": {},
   "outputs": [
    {
     "data": {
      "text/html": [
       "<div>\n",
       "<style scoped>\n",
       "    .dataframe tbody tr th:only-of-type {\n",
       "        vertical-align: middle;\n",
       "    }\n",
       "\n",
       "    .dataframe tbody tr th {\n",
       "        vertical-align: top;\n",
       "    }\n",
       "\n",
       "    .dataframe thead th {\n",
       "        text-align: right;\n",
       "    }\n",
       "</style>\n",
       "<table border=\"1\" class=\"dataframe\">\n",
       "  <thead>\n",
       "    <tr style=\"text-align: right;\">\n",
       "      <th></th>\n",
       "      <th>Actual Scores (y_test)</th>\n",
       "      <th>Predicted Scores (regressor.predict(x_test))</th>\n",
       "    </tr>\n",
       "  </thead>\n",
       "  <tbody>\n",
       "    <tr>\n",
       "      <th>5</th>\n",
       "      <td>45</td>\n",
       "      <td>42.597299</td>\n",
       "    </tr>\n",
       "    <tr>\n",
       "      <th>2</th>\n",
       "      <td>35</td>\n",
       "      <td>36.592668</td>\n",
       "    </tr>\n",
       "    <tr>\n",
       "      <th>19</th>\n",
       "      <td>41</td>\n",
       "      <td>41.596527</td>\n",
       "    </tr>\n",
       "    <tr>\n",
       "      <th>16</th>\n",
       "      <td>22</td>\n",
       "      <td>22.581863</td>\n",
       "    </tr>\n",
       "    <tr>\n",
       "      <th>11</th>\n",
       "      <td>25</td>\n",
       "      <td>24.583406</td>\n",
       "    </tr>\n",
       "  </tbody>\n",
       "</table>\n",
       "</div>"
      ],
      "text/plain": [
       "    Actual Scores (y_test)  Predicted Scores (regressor.predict(x_test))\n",
       "5                       45                                     42.597299\n",
       "2                       35                                     36.592668\n",
       "19                      41                                     41.596527\n",
       "16                      22                                     22.581863\n",
       "11                      25                                     24.583406"
      ]
     },
     "execution_count": 9,
     "metadata": {},
     "output_type": "execute_result"
    }
   ],
   "source": [
    "pd.DataFrame({'Actual Scores (y_test)': y_test, 'Predicted Scores (regressor.predict(x_test))': regressor.predict(x_test)})"
   ]
  },
  {
   "cell_type": "markdown",
   "id": "0167f023",
   "metadata": {},
   "source": [
    "##\n",
    "## visualising the train set result\n",
    "##"
   ]
  },
  {
   "cell_type": "code",
   "execution_count": 10,
   "id": "f030e4d9",
   "metadata": {},
   "outputs": [
    {
     "data": {
      "image/png": "[encoded data removed]",
      "text/plain": [
       "<Figure size 640x480 with 1 Axes>"
      ]
     },
     "metadata": {},
     "output_type": "display_data"
    }
   ],
   "source": [
    "plt.scatter(x_train, y_train, color = 'red')\n",
    "plt.plot(x_train, regressor.predict(x_train), color = 'green')\n",
    "plt.title('Study Hours vs Scores (Training Set)')\n",
    "plt.xlabel('Study Hours')\n",
    "plt.ylabel('Scores')\n",
    "plt.grid()\n",
    "plt.show()"
   ]
  },
  {
   "cell_type": "markdown",
   "id": "f8275c3b",
   "metadata": {},
   "source": [
    "##\n",
    "## visualising the test set result\n",
    "##"
   ]
  },
  {
   "cell_type": "code",
   "execution_count": 11,
   "id": "43941ed7",
   "metadata": {},
   "outputs": [
    {
     "data": {
      "image/png": "[encoded data removed]",
      "text/plain": [
       "<Figure size 640x480 with 1 Axes>"
      ]
     },
     "metadata": {},
     "output_type": "display_data"
    }
   ],
   "source": [
    "plt.scatter(x_test, y_test, color = 'red')\n",
    "plt.plot(x_test, regressor.predict(x_test), color = 'green')\n",
    "plt.title('Study Hours vs Scores (Test Set)')\n",
    "plt.xlabel('Study Hours')\n",
    "plt.ylabel('Scores')\n",
    "plt.grid()\n",
    "plt.show()"
   ]
  },
  {
   "cell_type": "markdown",
   "id": "05a4179f",
   "metadata": {},
   "source": [
    "##\n",
    "### Q) What will be predicted score if a student studies for 9.25 hrs/ day?\n",
    "##"
   ]
  },
  {
   "cell_type": "code",
   "execution_count": 13,
   "id": "a06eb67a",
   "metadata": {},
   "outputs": [
    {
     "name": "stdout",
     "output_type": "stream",
     "text": [
      "For how many hours you want to predict the score: 6\n",
      "\n",
      "Details:\n",
      "No. of hours studied: 6.0\n",
      "Predicted Score according to 6.0 hours: 64.614\n"
     ]
    },
    {
     "name": "stderr",
     "output_type": "stream",
     "text": [
      "C:\\Users\\HP\\anaconda3\\Lib\\site-packages\\sklearn\\base.py:464: UserWarning: X does not have valid feature names, but LinearRegression was fitted with feature names\n",
      "  warnings.warn(\n"
     ]
    }
   ],
   "source": [
    "ask = float(input('For how many hours you want to predict the score: '))\n",
    "prediction = regressor.predict([[ask]])\n",
    "prediction_ = float(prediction)\n",
    "print(f'\\nDetails:\\nNo. of hours studied: {ask}')\n",
    "print(f'Predicted Score according to {ask} hours: {prediction_:.3f}')"
   ]
  },
  {
   "cell_type": "markdown",
   "id": "d6e21090",
   "metadata": {},
   "source": [
    "##\n",
    "## Evaluating the Model Performance:\n",
    "##"
   ]
  },
  {
   "cell_type": "code",
   "execution_count": 14,
   "id": "d5a8f1b3",
   "metadata": {},
   "outputs": [
    {
     "name": "stdout",
     "output_type": "stream",
     "text": [
      "R2:0.9767775219273866\n",
      "Mean Absolute Error(MAE): 1.1180704913815291\n",
      "Mean Squared Error(MSE): 1.8355046668593633\n",
      "Root Mean Squared Error: 1.057388524328465\n"
     ]
    }
   ],
   "source": [
    "import numpy as np\n",
    "from sklearn.metrics import mean_absolute_error, mean_squared_error\n",
    "from sklearn.metrics import r2_score\n",
    "\n",
    "print(f'R2:{r2_score(y_test,  regressor.predict(x_test))}')\n",
    "print(f'Mean Absolute Error(MAE): {mean_absolute_error(y_test,  regressor.predict(x_test))}')\n",
    "print(f'Mean Squared Error(MSE): {mean_squared_error(y_test,  regressor.predict(x_test))}')\n",
    "print(f'Root Mean Squared Error: {np.sqrt(mean_absolute_error(y_test,  regressor.predict(x_test)))}')"
   ]
  },
  {
   "cell_type": "markdown",
   "id": "518911b6",
   "metadata": {},
   "source": [
    "##\n",
    "## Standardization :\n",
    "## Let's try to improve our model :\n",
    "##"
   ]
  },
  {
   "cell_type": "markdown",
   "id": "18a01f29",
   "metadata": {},
   "source": [
    "###\n",
    "## Importing StandardScale:\n",
    "###"
   ]
  },
  {
   "cell_type": "code",
   "execution_count": 15,
   "id": "e58d9ae9",
   "metadata": {},
   "outputs": [],
   "source": [
    "from sklearn.preprocessing import StandardScaler"
   ]
  },
  {
   "cell_type": "markdown",
   "id": "ad67f644",
   "metadata": {},
   "source": [
    "###\n",
    "## Standardizing the Orignal DataFrame (df):\n",
    "###"
   ]
  },
  {
   "cell_type": "code",
   "execution_count": 16,
   "id": "094c23aa",
   "metadata": {},
   "outputs": [
    {
     "data": {
      "text/html": [
       "<div>\n",
       "<style scoped>\n",
       "    .dataframe tbody tr th:only-of-type {\n",
       "        vertical-align: middle;\n",
       "    }\n",
       "\n",
       "    .dataframe tbody tr th {\n",
       "        vertical-align: top;\n",
       "    }\n",
       "\n",
       "    .dataframe thead th {\n",
       "        text-align: right;\n",
       "    }\n",
       "</style>\n",
       "<table border=\"1\" class=\"dataframe\">\n",
       "  <thead>\n",
       "    <tr style=\"text-align: right;\">\n",
       "      <th></th>\n",
       "      <th>Hours</th>\n",
       "      <th>Scores</th>\n",
       "    </tr>\n",
       "  </thead>\n",
       "  <tbody>\n",
       "    <tr>\n",
       "      <th>0</th>\n",
       "      <td>-0.859955</td>\n",
       "      <td>-0.959748</td>\n",
       "    </tr>\n",
       "    <tr>\n",
       "      <th>1</th>\n",
       "      <td>0.644967</td>\n",
       "      <td>0.733925</td>\n",
       "    </tr>\n",
       "    <tr>\n",
       "      <th>2</th>\n",
       "      <td>-0.501641</td>\n",
       "      <td>-0.606899</td>\n",
       "    </tr>\n",
       "    <tr>\n",
       "      <th>3</th>\n",
       "      <td>1.146607</td>\n",
       "      <td>1.157343</td>\n",
       "    </tr>\n",
       "    <tr>\n",
       "      <th>4</th>\n",
       "      <td>-1.719911</td>\n",
       "      <td>-1.665444</td>\n",
       "    </tr>\n",
       "    <tr>\n",
       "      <th>5</th>\n",
       "      <td>-0.071663</td>\n",
       "      <td>0.098798</td>\n",
       "    </tr>\n",
       "    <tr>\n",
       "      <th>6</th>\n",
       "      <td>-1.289933</td>\n",
       "      <td>-1.100887</td>\n",
       "    </tr>\n",
       "    <tr>\n",
       "      <th>7</th>\n",
       "      <td>0.214989</td>\n",
       "      <td>0.451646</td>\n",
       "    </tr>\n",
       "    <tr>\n",
       "      <th>8</th>\n",
       "      <td>1.504922</td>\n",
       "      <td>1.510191</td>\n",
       "    </tr>\n",
       "    <tr>\n",
       "      <th>9</th>\n",
       "      <td>-0.286652</td>\n",
       "      <td>-0.395190</td>\n",
       "    </tr>\n",
       "    <tr>\n",
       "      <th>10</th>\n",
       "      <td>0.788293</td>\n",
       "      <td>0.804494</td>\n",
       "    </tr>\n",
       "    <tr>\n",
       "      <th>11</th>\n",
       "      <td>-1.361596</td>\n",
       "      <td>-1.312596</td>\n",
       "    </tr>\n",
       "    <tr>\n",
       "      <th>12</th>\n",
       "      <td>0.429978</td>\n",
       "      <td>0.592785</td>\n",
       "    </tr>\n",
       "    <tr>\n",
       "      <th>13</th>\n",
       "      <td>-0.644967</td>\n",
       "      <td>-0.748039</td>\n",
       "    </tr>\n",
       "    <tr>\n",
       "      <th>14</th>\n",
       "      <td>1.361596</td>\n",
       "      <td>1.016203</td>\n",
       "    </tr>\n",
       "    <tr>\n",
       "      <th>15</th>\n",
       "      <td>1.719911</td>\n",
       "      <td>1.721900</td>\n",
       "    </tr>\n",
       "    <tr>\n",
       "      <th>16</th>\n",
       "      <td>-1.504922</td>\n",
       "      <td>-1.524305</td>\n",
       "    </tr>\n",
       "    <tr>\n",
       "      <th>17</th>\n",
       "      <td>-1.003281</td>\n",
       "      <td>-1.171457</td>\n",
       "    </tr>\n",
       "    <tr>\n",
       "      <th>18</th>\n",
       "      <td>0.071663</td>\n",
       "      <td>0.381076</td>\n",
       "    </tr>\n",
       "    <tr>\n",
       "      <th>19</th>\n",
       "      <td>-0.143326</td>\n",
       "      <td>-0.183481</td>\n",
       "    </tr>\n",
       "    <tr>\n",
       "      <th>20</th>\n",
       "      <td>0.931618</td>\n",
       "      <td>0.663355</td>\n",
       "    </tr>\n",
       "    <tr>\n",
       "      <th>21</th>\n",
       "      <td>0.143326</td>\n",
       "      <td>0.310507</td>\n",
       "    </tr>\n",
       "    <tr>\n",
       "      <th>22</th>\n",
       "      <td>1.576585</td>\n",
       "      <td>1.580761</td>\n",
       "    </tr>\n",
       "    <tr>\n",
       "      <th>23</th>\n",
       "      <td>-0.429978</td>\n",
       "      <td>-0.465760</td>\n",
       "    </tr>\n",
       "    <tr>\n",
       "      <th>24</th>\n",
       "      <td>-0.716630</td>\n",
       "      <td>-0.889178</td>\n",
       "    </tr>\n",
       "  </tbody>\n",
       "</table>\n",
       "</div>"
      ],
      "text/plain": [
       "       Hours    Scores\n",
       "0  -0.859955 -0.959748\n",
       "1   0.644967  0.733925\n",
       "2  -0.501641 -0.606899\n",
       "3   1.146607  1.157343\n",
       "4  -1.719911 -1.665444\n",
       "5  -0.071663  0.098798\n",
       "6  -1.289933 -1.100887\n",
       "7   0.214989  0.451646\n",
       "8   1.504922  1.510191\n",
       "9  -0.286652 -0.395190\n",
       "10  0.788293  0.804494\n",
       "11 -1.361596 -1.312596\n",
       "12  0.429978  0.592785\n",
       "13 -0.644967 -0.748039\n",
       "14  1.361596  1.016203\n",
       "15  1.719911  1.721900\n",
       "16 -1.504922 -1.524305\n",
       "17 -1.003281 -1.171457\n",
       "18  0.071663  0.381076\n",
       "19 -0.143326 -0.183481\n",
       "20  0.931618  0.663355\n",
       "21  0.143326  0.310507\n",
       "22  1.576585  1.580761\n",
       "23 -0.429978 -0.465760\n",
       "24 -0.716630 -0.889178"
      ]
     },
     "execution_count": 16,
     "metadata": {},
     "output_type": "execute_result"
    }
   ],
   "source": [
    "df1 = df.copy()\n",
    "scaler = StandardScaler()\n",
    "df1_scaled_ = scaler.fit_transform(df1)\n",
    "df1_scaled_\n",
    "\n",
    "df1_scaled = pd.DataFrame(df1_scaled_, columns = ['Hours','Scores'])\n",
    "df1_scaled"
   ]
  },
  {
   "cell_type": "markdown",
   "id": "5b0e4c01",
   "metadata": {},
   "source": [
    "###\n",
    "## Seperating independent values (x) and dependent values (y) from df1_scaled:\n",
    "###"
   ]
  },
  {
   "cell_type": "code",
   "execution_count": 17,
   "id": "a2c8dfd7",
   "metadata": {},
   "outputs": [],
   "source": [
    "x1 = df1_scaled[['Hours']]\n",
    "y1 = df1_scaled['Scores']"
   ]
  },
  {
   "cell_type": "markdown",
   "id": "2be72719",
   "metadata": {},
   "source": [
    "###\n",
    "## train_test_split:\n",
    "###"
   ]
  },
  {
   "cell_type": "code",
   "execution_count": 18,
   "id": "a3756896",
   "metadata": {},
   "outputs": [],
   "source": [
    "from sklearn.model_selection import train_test_split\n",
    "\n",
    "x1_train, x1_test, y1_train, y1_test = train_test_split(x1, y1, test_size = 0.2, random_state = 0)"
   ]
  },
  {
   "cell_type": "markdown",
   "id": "54d60712",
   "metadata": {},
   "source": [
    "###\n",
    "## Importing LinearRegression:\n",
    "###"
   ]
  },
  {
   "cell_type": "code",
   "execution_count": 20,
   "id": "b66fb4a3",
   "metadata": {},
   "outputs": [
    {
     "data": {
      "text/html": [
       "<style>#sk-container-id-1 {color: black;}#sk-container-id-1 pre{padding: 0;}#sk-container-id-1 div.sk-toggleable {background-color: white;}#sk-container-id-1 label.sk-toggleable__label {cursor: pointer;display: block;width: 100%;margin-bottom: 0;padding: 0.3em;box-sizing: border-box;text-align: center;}#sk-container-id-1 label.sk-toggleable__label-arrow:before {content: \"▸\";float: left;margin-right: 0.25em;color: #696969;}#sk-container-id-1 label.sk-toggleable__label-arrow:hover:before {color: black;}#sk-container-id-1 div.sk-estimator:hover label.sk-toggleable__label-arrow:before {color: black;}#sk-container-id-1 div.sk-toggleable__content {max-height: 0;max-width: 0;overflow: hidden;text-align: left;background-color: #f0f8ff;}#sk-container-id-1 div.sk-toggleable__content pre {margin: 0.2em;color: black;border-radius: 0.25em;background-color: #f0f8ff;}#sk-container-id-1 input.sk-toggleable__control:checked~div.sk-toggleable__content {max-height: 200px;max-width: 100%;overflow: auto;}#sk-container-id-1 input.sk-toggleable__control:checked~label.sk-toggleable__label-arrow:before {content: \"▾\";}#sk-container-id-1 div.sk-estimator input.sk-toggleable__control:checked~label.sk-toggleable__label {background-color: #d4ebff;}#sk-container-id-1 div.sk-label input.sk-toggleable__control:checked~label.sk-toggleable__label {background-color: #d4ebff;}#sk-container-id-1 input.sk-hidden--visually {border: 0;clip: rect(1px 1px 1px 1px);clip: rect(1px, 1px, 1px, 1px);height: 1px;margin: -1px;overflow: hidden;padding: 0;position: absolute;width: 1px;}#sk-container-id-1 div.sk-estimator {font-family: monospace;background-color: #f0f8ff;border: 1px dotted black;border-radius: 0.25em;box-sizing: border-box;margin-bottom: 0.5em;}#sk-container-id-1 div.sk-estimator:hover {background-color: #d4ebff;}#sk-container-id-1 div.sk-parallel-item::after {content: \"\";width: 100%;border-bottom: 1px solid gray;flex-grow: 1;}#sk-container-id-1 div.sk-label:hover label.sk-toggleable__label {background-color: #d4ebff;}#sk-container-id-1 div.sk-serial::before {content: \"\";position: absolute;border-left: 1px solid gray;box-sizing: border-box;top: 0;bottom: 0;left: 50%;z-index: 0;}#sk-container-id-1 div.sk-serial {display: flex;flex-direction: column;align-items: center;background-color: white;padding-right: 0.2em;padding-left: 0.2em;position: relative;}#sk-container-id-1 div.sk-item {position: relative;z-index: 1;}#sk-container-id-1 div.sk-parallel {display: flex;align-items: stretch;justify-content: center;background-color: white;position: relative;}#sk-container-id-1 div.sk-item::before, #sk-container-id-1 div.sk-parallel-item::before {content: \"\";position: absolute;border-left: 1px solid gray;box-sizing: border-box;top: 0;bottom: 0;left: 50%;z-index: -1;}#sk-container-id-1 div.sk-parallel-item {display: flex;flex-direction: column;z-index: 1;position: relative;background-color: white;}#sk-container-id-1 div.sk-parallel-item:first-child::after {align-self: flex-end;width: 50%;}#sk-container-id-1 div.sk-parallel-item:last-child::after {align-self: flex-start;width: 50%;}#sk-container-id-1 div.sk-parallel-item:only-child::after {width: 0;}#sk-container-id-1 div.sk-dashed-wrapped {border: 1px dashed gray;margin: 0 0.4em 0.5em 0.4em;box-sizing: border-box;padding-bottom: 0.4em;background-color: white;}#sk-container-id-1 div.sk-label label {font-family: monospace;font-weight: bold;display: inline-block;line-height: 1.2em;}#sk-container-id-1 div.sk-label-container {text-align: center;}#sk-container-id-1 div.sk-container {/* jupyter's `normalize.less` sets `[hidden] { display: none; }` but bootstrap.min.css set `[hidden] { display: none !important; }` so we also need the `!important` here to be able to override the default hidden behavior on the sphinx rendered scikit-learn.org. See: https://github.com/scikit-learn/scikit-learn/issues/21755 */display: inline-block !important;position: relative;}#sk-container-id-1 div.sk-text-repr-fallback {display: none;}</style><div id=\"sk-container-id-1\" class=\"sk-top-container\"><div class=\"sk-text-repr-fallback\"><pre>LinearRegression()</pre><b>In a Jupyter environment, please rerun this cell to show the HTML representation or trust the notebook. <br />On GitHub, the HTML representation is unable to render, please try loading this page with nbviewer.org.</b></div><div class=\"sk-container\" hidden><div class=\"sk-item\"><div class=\"sk-estimator sk-toggleable\"><input class=\"sk-toggleable__control sk-hidden--visually\" id=\"sk-estimator-id-1\" type=\"checkbox\" checked><label for=\"sk-estimator-id-1\" class=\"sk-toggleable__label sk-toggleable__label-arrow\">LinearRegression</label><div class=\"sk-toggleable__content\"><pre>LinearRegression()</pre></div></div></div></div></div>"
      ],
      "text/plain": [
       "LinearRegression()"
      ]
     },
     "execution_count": 20,
     "metadata": {},
     "output_type": "execute_result"
    }
   ],
   "source": [
    "from sklearn.linear_model import LinearRegression\n",
    "\n",
    "regressor1 = LinearRegression()\n",
    "regressor1.fit( x1_train, y1_train )"
   ]
  },
  {
   "cell_type": "markdown",
   "id": "829c1768",
   "metadata": {},
   "source": [
    "###\n",
    "## Predicting values of unseen data (x1_test):\n",
    "###"
   ]
  },
  {
   "cell_type": "code",
   "execution_count": 21,
   "id": "8144359e",
   "metadata": {},
   "outputs": [
    {
     "data": {
      "text/plain": [
       "array([-0.07076031, -0.49450518, -0.14138446, -1.48324322, -1.34199493])"
      ]
     },
     "execution_count": 21,
     "metadata": {},
     "output_type": "execute_result"
    }
   ],
   "source": [
    "regressor1.predict(x1_test)"
   ]
  },
  {
   "cell_type": "markdown",
   "id": "34d5661b",
   "metadata": {},
   "source": [
    "###\n",
    "## Actual unseen values (y1_test) and Predicted unseen values (regressor1.predict(x1_test)):\n",
    "###"
   ]
  },
  {
   "cell_type": "code",
   "execution_count": 22,
   "id": "cef9032a",
   "metadata": {},
   "outputs": [
    {
     "data": {
      "text/html": [
       "<div>\n",
       "<style scoped>\n",
       "    .dataframe tbody tr th:only-of-type {\n",
       "        vertical-align: middle;\n",
       "    }\n",
       "\n",
       "    .dataframe tbody tr th {\n",
       "        vertical-align: top;\n",
       "    }\n",
       "\n",
       "    .dataframe thead th {\n",
       "        text-align: right;\n",
       "    }\n",
       "</style>\n",
       "<table border=\"1\" class=\"dataframe\">\n",
       "  <thead>\n",
       "    <tr style=\"text-align: right;\">\n",
       "      <th></th>\n",
       "      <th>Actual Scores (y1_test)</th>\n",
       "      <th>Predicted Scores (regressor1.predict(x1_test))</th>\n",
       "    </tr>\n",
       "  </thead>\n",
       "  <tbody>\n",
       "    <tr>\n",
       "      <th>5</th>\n",
       "      <td>0.098798</td>\n",
       "      <td>-0.070760</td>\n",
       "    </tr>\n",
       "    <tr>\n",
       "      <th>2</th>\n",
       "      <td>-0.606899</td>\n",
       "      <td>-0.494505</td>\n",
       "    </tr>\n",
       "    <tr>\n",
       "      <th>19</th>\n",
       "      <td>-0.183481</td>\n",
       "      <td>-0.141384</td>\n",
       "    </tr>\n",
       "    <tr>\n",
       "      <th>16</th>\n",
       "      <td>-1.524305</td>\n",
       "      <td>-1.483243</td>\n",
       "    </tr>\n",
       "    <tr>\n",
       "      <th>11</th>\n",
       "      <td>-1.312596</td>\n",
       "      <td>-1.341995</td>\n",
       "    </tr>\n",
       "  </tbody>\n",
       "</table>\n",
       "</div>"
      ],
      "text/plain": [
       "    Actual Scores (y1_test)  Predicted Scores (regressor1.predict(x1_test))\n",
       "5                  0.098798                                       -0.070760\n",
       "2                 -0.606899                                       -0.494505\n",
       "19                -0.183481                                       -0.141384\n",
       "16                -1.524305                                       -1.483243\n",
       "11                -1.312596                                       -1.341995"
      ]
     },
     "execution_count": 22,
     "metadata": {},
     "output_type": "execute_result"
    }
   ],
   "source": [
    "pd.DataFrame({'Actual Scores (y1_test)': y1_test, 'Predicted Scores (regressor1.predict(x1_test))': regressor1.predict(x1_test)})"
   ]
  },
  {
   "cell_type": "markdown",
   "id": "2800aebd",
   "metadata": {},
   "source": [
    "###\n",
    "## Evaluating Model Performance:\n",
    "###"
   ]
  },
  {
   "cell_type": "code",
   "execution_count": 23,
   "id": "286218e7",
   "metadata": {},
   "outputs": [
    {
     "name": "stdout",
     "output_type": "stream",
     "text": [
      "R2:0.9767775219273866\n",
      "Mean Absolute Error(MAE): 0.07890187636624506\n",
      "Mean Squared Error(MSE): 0.00914095949631156\n",
      "Root Mean Squared Error: 0.2808947781042664\n"
     ]
    }
   ],
   "source": [
    "print(f'R2:{r2_score(y1_test, regressor1.predict(x1_test))}')\n",
    "print(f'Mean Absolute Error(MAE): {mean_absolute_error(y1_test, regressor1.predict(x1_test))}')\n",
    "print(f'Mean Squared Error(MSE): {mean_squared_error(y1_test, regressor1.predict(x1_test))}')\n",
    "print(f'Root Mean Squared Error: {np.sqrt(mean_absolute_error(y1_test, regressor1.predict(x1_test)))}')"
   ]
  },
  {
   "cell_type": "markdown",
   "id": "4d57d28d",
   "metadata": {},
   "source": [
    "###\n",
    "## Predicting Program:\n",
    "###"
   ]
  },
  {
   "cell_type": "code",
   "execution_count": 26,
   "id": "21908879",
   "metadata": {},
   "outputs": [
    {
     "name": "stdout",
     "output_type": "stream",
     "text": [
      "For how many hours you want to predict the score: 0.788293\n",
      "\n",
      "Details:\n",
      "No. of hours studied: 0.788293\n",
      "Predicted Score according to 0.788293 (5.000) hours: 0.777 (54.607)\n"
     ]
    },
    {
     "name": "stderr",
     "output_type": "stream",
     "text": [
      "C:\\Users\\HP\\anaconda3\\Lib\\site-packages\\sklearn\\base.py:464: UserWarning: X does not have valid feature names, but LinearRegression was fitted with feature names\n",
      "  warnings.warn(\n"
     ]
    }
   ],
   "source": [
    "ask = float(input('For how many hours you want to predict the score: '))\n",
    "prediction = regressor1.predict([[ask]])\n",
    "prediction_ = float(prediction)\n",
    "\n",
    "Original_hour = ( ask * 1.395421) + 3.9                   \n",
    "Original_score = ( prediction_ * 14.170391667134682) + 43.6 \n",
    "\n",
    "print(f'\\nDetails:\\nNo. of hours studied: {ask}')\n",
    "print(f'Predicted Score according to {ask} ({Original_hour:.3f}) hours: {prediction_:.3f} ({Original_score:.3f})')"
   ]
  },
  {
   "cell_type": "markdown",
   "id": "119adda5",
   "metadata": {},
   "source": [
    "###\n",
    "## Final Comparision of Test Dataset:\n",
    "###"
   ]
  },
  {
   "cell_type": "code",
   "execution_count": 27,
   "id": "5d8730b3",
   "metadata": {},
   "outputs": [
    {
     "data": {
      "text/html": [
       "<div>\n",
       "<style scoped>\n",
       "    .dataframe tbody tr th:only-of-type {\n",
       "        vertical-align: middle;\n",
       "    }\n",
       "\n",
       "    .dataframe tbody tr th {\n",
       "        vertical-align: top;\n",
       "    }\n",
       "\n",
       "    .dataframe thead th {\n",
       "        text-align: right;\n",
       "    }\n",
       "</style>\n",
       "<table border=\"1\" class=\"dataframe\">\n",
       "  <thead>\n",
       "    <tr style=\"text-align: right;\">\n",
       "      <th></th>\n",
       "      <th>Actual Scores</th>\n",
       "      <th>Predicted Score</th>\n",
       "      <th>Actual Scores (standardized)</th>\n",
       "      <th>Predicted Score (standardized)</th>\n",
       "    </tr>\n",
       "  </thead>\n",
       "  <tbody>\n",
       "    <tr>\n",
       "      <th>5</th>\n",
       "      <td>45</td>\n",
       "      <td>42.597299</td>\n",
       "      <td>0.098798</td>\n",
       "      <td>-0.070760</td>\n",
       "    </tr>\n",
       "    <tr>\n",
       "      <th>2</th>\n",
       "      <td>35</td>\n",
       "      <td>36.592668</td>\n",
       "      <td>-0.606899</td>\n",
       "      <td>-0.494505</td>\n",
       "    </tr>\n",
       "    <tr>\n",
       "      <th>19</th>\n",
       "      <td>41</td>\n",
       "      <td>41.596527</td>\n",
       "      <td>-0.183481</td>\n",
       "      <td>-0.141384</td>\n",
       "    </tr>\n",
       "    <tr>\n",
       "      <th>16</th>\n",
       "      <td>22</td>\n",
       "      <td>22.581863</td>\n",
       "      <td>-1.524305</td>\n",
       "      <td>-1.483243</td>\n",
       "    </tr>\n",
       "    <tr>\n",
       "      <th>11</th>\n",
       "      <td>25</td>\n",
       "      <td>24.583406</td>\n",
       "      <td>-1.312596</td>\n",
       "      <td>-1.341995</td>\n",
       "    </tr>\n",
       "  </tbody>\n",
       "</table>\n",
       "</div>"
      ],
      "text/plain": [
       "    Actual Scores  Predicted Score  Actual Scores (standardized)  \\\n",
       "5              45        42.597299                      0.098798   \n",
       "2              35        36.592668                     -0.606899   \n",
       "19             41        41.596527                     -0.183481   \n",
       "16             22        22.581863                     -1.524305   \n",
       "11             25        24.583406                     -1.312596   \n",
       "\n",
       "    Predicted Score (standardized)  \n",
       "5                        -0.070760  \n",
       "2                        -0.494505  \n",
       "19                       -0.141384  \n",
       "16                       -1.483243  \n",
       "11                       -1.341995  "
      ]
     },
     "execution_count": 27,
     "metadata": {},
     "output_type": "execute_result"
    }
   ],
   "source": [
    "pd.DataFrame({'Actual Scores': y_test, 'Predicted Score': regressor.predict(x_test), 'Actual Scores (standardized)': y1_test, 'Predicted Score (standardized)': regressor1.predict(x1_test)})"
   ]
  },
  {
   "cell_type": "markdown",
   "id": "1d3dcef3",
   "metadata": {},
   "source": [
    "###\n",
    "## Final Comparision of Train Dataset:\n",
    "###"
   ]
  },
  {
   "cell_type": "code",
   "execution_count": 28,
   "id": "54d6ef88",
   "metadata": {},
   "outputs": [
    {
     "data": {
      "text/html": [
       "<div>\n",
       "<style scoped>\n",
       "    .dataframe tbody tr th:only-of-type {\n",
       "        vertical-align: middle;\n",
       "    }\n",
       "\n",
       "    .dataframe tbody tr th {\n",
       "        vertical-align: top;\n",
       "    }\n",
       "\n",
       "    .dataframe thead th {\n",
       "        text-align: right;\n",
       "    }\n",
       "</style>\n",
       "<table border=\"1\" class=\"dataframe\">\n",
       "  <thead>\n",
       "    <tr style=\"text-align: right;\">\n",
       "      <th></th>\n",
       "      <th>Actual Scores</th>\n",
       "      <th>Predicted Score</th>\n",
       "      <th>Actual Scores (standardized)</th>\n",
       "      <th>Predicted Score (standardized)</th>\n",
       "    </tr>\n",
       "  </thead>\n",
       "  <tbody>\n",
       "    <tr>\n",
       "      <th>22</th>\n",
       "      <td>66</td>\n",
       "      <td>65.615050</td>\n",
       "      <td>1.580761</td>\n",
       "      <td>1.553595</td>\n",
       "    </tr>\n",
       "    <tr>\n",
       "      <th>17</th>\n",
       "      <td>27</td>\n",
       "      <td>29.587265</td>\n",
       "      <td>-1.171457</td>\n",
       "      <td>-0.988874</td>\n",
       "    </tr>\n",
       "    <tr>\n",
       "      <th>24</th>\n",
       "      <td>31</td>\n",
       "      <td>33.590352</td>\n",
       "      <td>-0.889178</td>\n",
       "      <td>-0.706378</td>\n",
       "    </tr>\n",
       "    <tr>\n",
       "      <th>23</th>\n",
       "      <td>37</td>\n",
       "      <td>37.593440</td>\n",
       "      <td>-0.465760</td>\n",
       "      <td>-0.423881</td>\n",
       "    </tr>\n",
       "    <tr>\n",
       "      <th>14</th>\n",
       "      <td>58</td>\n",
       "      <td>62.612735</td>\n",
       "      <td>1.016203</td>\n",
       "      <td>1.341723</td>\n",
       "    </tr>\n",
       "    <tr>\n",
       "      <th>1</th>\n",
       "      <td>54</td>\n",
       "      <td>52.605017</td>\n",
       "      <td>0.733925</td>\n",
       "      <td>0.635481</td>\n",
       "    </tr>\n",
       "    <tr>\n",
       "      <th>10</th>\n",
       "      <td>55</td>\n",
       "      <td>54.606560</td>\n",
       "      <td>0.804494</td>\n",
       "      <td>0.776729</td>\n",
       "    </tr>\n",
       "    <tr>\n",
       "      <th>13</th>\n",
       "      <td>33</td>\n",
       "      <td>34.591124</td>\n",
       "      <td>-0.748039</td>\n",
       "      <td>-0.635753</td>\n",
       "    </tr>\n",
       "    <tr>\n",
       "      <th>8</th>\n",
       "      <td>65</td>\n",
       "      <td>64.614278</td>\n",
       "      <td>1.510191</td>\n",
       "      <td>1.482971</td>\n",
       "    </tr>\n",
       "    <tr>\n",
       "      <th>6</th>\n",
       "      <td>28</td>\n",
       "      <td>25.584178</td>\n",
       "      <td>-1.100887</td>\n",
       "      <td>-1.271371</td>\n",
       "    </tr>\n",
       "    <tr>\n",
       "      <th>18</th>\n",
       "      <td>49</td>\n",
       "      <td>44.598842</td>\n",
       "      <td>0.381076</td>\n",
       "      <td>0.070488</td>\n",
       "    </tr>\n",
       "    <tr>\n",
       "      <th>4</th>\n",
       "      <td>20</td>\n",
       "      <td>19.579547</td>\n",
       "      <td>-1.665444</td>\n",
       "      <td>-1.695116</td>\n",
       "    </tr>\n",
       "    <tr>\n",
       "      <th>9</th>\n",
       "      <td>38</td>\n",
       "      <td>39.594983</td>\n",
       "      <td>-0.395190</td>\n",
       "      <td>-0.282633</td>\n",
       "    </tr>\n",
       "    <tr>\n",
       "      <th>7</th>\n",
       "      <td>50</td>\n",
       "      <td>46.600386</td>\n",
       "      <td>0.451646</td>\n",
       "      <td>0.211736</td>\n",
       "    </tr>\n",
       "    <tr>\n",
       "      <th>20</th>\n",
       "      <td>53</td>\n",
       "      <td>56.608104</td>\n",
       "      <td>0.663355</td>\n",
       "      <td>0.917978</td>\n",
       "    </tr>\n",
       "    <tr>\n",
       "      <th>3</th>\n",
       "      <td>60</td>\n",
       "      <td>59.610419</td>\n",
       "      <td>1.157343</td>\n",
       "      <td>1.129850</td>\n",
       "    </tr>\n",
       "    <tr>\n",
       "      <th>0</th>\n",
       "      <td>30</td>\n",
       "      <td>31.588809</td>\n",
       "      <td>-0.959748</td>\n",
       "      <td>-0.847626</td>\n",
       "    </tr>\n",
       "    <tr>\n",
       "      <th>21</th>\n",
       "      <td>48</td>\n",
       "      <td>45.599614</td>\n",
       "      <td>0.310507</td>\n",
       "      <td>0.141112</td>\n",
       "    </tr>\n",
       "    <tr>\n",
       "      <th>15</th>\n",
       "      <td>68</td>\n",
       "      <td>67.616594</td>\n",
       "      <td>1.721900</td>\n",
       "      <td>1.694843</td>\n",
       "    </tr>\n",
       "    <tr>\n",
       "      <th>12</th>\n",
       "      <td>52</td>\n",
       "      <td>49.602701</td>\n",
       "      <td>0.592785</td>\n",
       "      <td>0.423609</td>\n",
       "    </tr>\n",
       "  </tbody>\n",
       "</table>\n",
       "</div>"
      ],
      "text/plain": [
       "    Actual Scores  Predicted Score  Actual Scores (standardized)  \\\n",
       "22             66        65.615050                      1.580761   \n",
       "17             27        29.587265                     -1.171457   \n",
       "24             31        33.590352                     -0.889178   \n",
       "23             37        37.593440                     -0.465760   \n",
       "14             58        62.612735                      1.016203   \n",
       "1              54        52.605017                      0.733925   \n",
       "10             55        54.606560                      0.804494   \n",
       "13             33        34.591124                     -0.748039   \n",
       "8              65        64.614278                      1.510191   \n",
       "6              28        25.584178                     -1.100887   \n",
       "18             49        44.598842                      0.381076   \n",
       "4              20        19.579547                     -1.665444   \n",
       "9              38        39.594983                     -0.395190   \n",
       "7              50        46.600386                      0.451646   \n",
       "20             53        56.608104                      0.663355   \n",
       "3              60        59.610419                      1.157343   \n",
       "0              30        31.588809                     -0.959748   \n",
       "21             48        45.599614                      0.310507   \n",
       "15             68        67.616594                      1.721900   \n",
       "12             52        49.602701                      0.592785   \n",
       "\n",
       "    Predicted Score (standardized)  \n",
       "22                        1.553595  \n",
       "17                       -0.988874  \n",
       "24                       -0.706378  \n",
       "23                       -0.423881  \n",
       "14                        1.341723  \n",
       "1                         0.635481  \n",
       "10                        0.776729  \n",
       "13                       -0.635753  \n",
       "8                         1.482971  \n",
       "6                        -1.271371  \n",
       "18                        0.070488  \n",
       "4                        -1.695116  \n",
       "9                        -0.282633  \n",
       "7                         0.211736  \n",
       "20                        0.917978  \n",
       "3                         1.129850  \n",
       "0                        -0.847626  \n",
       "21                        0.141112  \n",
       "15                        1.694843  \n",
       "12                        0.423609  "
      ]
     },
     "execution_count": 28,
     "metadata": {},
     "output_type": "execute_result"
    }
   ],
   "source": [
    "pd.DataFrame({'Actual Scores': y_train, 'Predicted Score': regressor.predict(x_train), 'Actual Scores (standardized)': y1_train, 'Predicted Score (standardized)': regressor1.predict(x1_train)})"
   ]
  },
  {
   "cell_type": "markdown",
   "id": "80975b01",
   "metadata": {},
   "source": [
    "###\n",
    "## Final Comparision of Whole Dataset:\n",
    "###"
   ]
  },
  {
   "cell_type": "code",
   "execution_count": 29,
   "id": "d40e6b51",
   "metadata": {},
   "outputs": [
    {
     "data": {
      "text/html": [
       "<div>\n",
       "<style scoped>\n",
       "    .dataframe tbody tr th:only-of-type {\n",
       "        vertical-align: middle;\n",
       "    }\n",
       "\n",
       "    .dataframe tbody tr th {\n",
       "        vertical-align: top;\n",
       "    }\n",
       "\n",
       "    .dataframe thead th {\n",
       "        text-align: right;\n",
       "    }\n",
       "</style>\n",
       "<table border=\"1\" class=\"dataframe\">\n",
       "  <thead>\n",
       "    <tr style=\"text-align: right;\">\n",
       "      <th></th>\n",
       "      <th>Actual Scores</th>\n",
       "      <th>Predicted Score</th>\n",
       "      <th>Actual Scores (standardized)</th>\n",
       "      <th>Predicted Score (standardized)</th>\n",
       "    </tr>\n",
       "  </thead>\n",
       "  <tbody>\n",
       "    <tr>\n",
       "      <th>0</th>\n",
       "      <td>30</td>\n",
       "      <td>31.588809</td>\n",
       "      <td>-0.959748</td>\n",
       "      <td>-0.847626</td>\n",
       "    </tr>\n",
       "    <tr>\n",
       "      <th>1</th>\n",
       "      <td>54</td>\n",
       "      <td>52.605017</td>\n",
       "      <td>0.733925</td>\n",
       "      <td>0.635481</td>\n",
       "    </tr>\n",
       "    <tr>\n",
       "      <th>2</th>\n",
       "      <td>35</td>\n",
       "      <td>36.592668</td>\n",
       "      <td>-0.606899</td>\n",
       "      <td>-0.494505</td>\n",
       "    </tr>\n",
       "    <tr>\n",
       "      <th>3</th>\n",
       "      <td>60</td>\n",
       "      <td>59.610419</td>\n",
       "      <td>1.157343</td>\n",
       "      <td>1.129850</td>\n",
       "    </tr>\n",
       "    <tr>\n",
       "      <th>4</th>\n",
       "      <td>20</td>\n",
       "      <td>19.579547</td>\n",
       "      <td>-1.665444</td>\n",
       "      <td>-1.695116</td>\n",
       "    </tr>\n",
       "    <tr>\n",
       "      <th>5</th>\n",
       "      <td>45</td>\n",
       "      <td>42.597299</td>\n",
       "      <td>0.098798</td>\n",
       "      <td>-0.070760</td>\n",
       "    </tr>\n",
       "    <tr>\n",
       "      <th>6</th>\n",
       "      <td>28</td>\n",
       "      <td>25.584178</td>\n",
       "      <td>-1.100887</td>\n",
       "      <td>-1.271371</td>\n",
       "    </tr>\n",
       "    <tr>\n",
       "      <th>7</th>\n",
       "      <td>50</td>\n",
       "      <td>46.600386</td>\n",
       "      <td>0.451646</td>\n",
       "      <td>0.211736</td>\n",
       "    </tr>\n",
       "    <tr>\n",
       "      <th>8</th>\n",
       "      <td>65</td>\n",
       "      <td>64.614278</td>\n",
       "      <td>1.510191</td>\n",
       "      <td>1.482971</td>\n",
       "    </tr>\n",
       "    <tr>\n",
       "      <th>9</th>\n",
       "      <td>38</td>\n",
       "      <td>39.594983</td>\n",
       "      <td>-0.395190</td>\n",
       "      <td>-0.282633</td>\n",
       "    </tr>\n",
       "    <tr>\n",
       "      <th>10</th>\n",
       "      <td>55</td>\n",
       "      <td>54.606560</td>\n",
       "      <td>0.804494</td>\n",
       "      <td>0.776729</td>\n",
       "    </tr>\n",
       "    <tr>\n",
       "      <th>11</th>\n",
       "      <td>25</td>\n",
       "      <td>24.583406</td>\n",
       "      <td>-1.312596</td>\n",
       "      <td>-1.341995</td>\n",
       "    </tr>\n",
       "    <tr>\n",
       "      <th>12</th>\n",
       "      <td>52</td>\n",
       "      <td>49.602701</td>\n",
       "      <td>0.592785</td>\n",
       "      <td>0.423609</td>\n",
       "    </tr>\n",
       "    <tr>\n",
       "      <th>13</th>\n",
       "      <td>33</td>\n",
       "      <td>34.591124</td>\n",
       "      <td>-0.748039</td>\n",
       "      <td>-0.635753</td>\n",
       "    </tr>\n",
       "    <tr>\n",
       "      <th>14</th>\n",
       "      <td>58</td>\n",
       "      <td>62.612735</td>\n",
       "      <td>1.016203</td>\n",
       "      <td>1.341723</td>\n",
       "    </tr>\n",
       "    <tr>\n",
       "      <th>15</th>\n",
       "      <td>68</td>\n",
       "      <td>67.616594</td>\n",
       "      <td>1.721900</td>\n",
       "      <td>1.694843</td>\n",
       "    </tr>\n",
       "    <tr>\n",
       "      <th>16</th>\n",
       "      <td>22</td>\n",
       "      <td>22.581863</td>\n",
       "      <td>-1.524305</td>\n",
       "      <td>-1.483243</td>\n",
       "    </tr>\n",
       "    <tr>\n",
       "      <th>17</th>\n",
       "      <td>27</td>\n",
       "      <td>29.587265</td>\n",
       "      <td>-1.171457</td>\n",
       "      <td>-0.988874</td>\n",
       "    </tr>\n",
       "    <tr>\n",
       "      <th>18</th>\n",
       "      <td>49</td>\n",
       "      <td>44.598842</td>\n",
       "      <td>0.381076</td>\n",
       "      <td>0.070488</td>\n",
       "    </tr>\n",
       "    <tr>\n",
       "      <th>19</th>\n",
       "      <td>41</td>\n",
       "      <td>41.596527</td>\n",
       "      <td>-0.183481</td>\n",
       "      <td>-0.141384</td>\n",
       "    </tr>\n",
       "    <tr>\n",
       "      <th>20</th>\n",
       "      <td>53</td>\n",
       "      <td>56.608104</td>\n",
       "      <td>0.663355</td>\n",
       "      <td>0.917978</td>\n",
       "    </tr>\n",
       "    <tr>\n",
       "      <th>21</th>\n",
       "      <td>48</td>\n",
       "      <td>45.599614</td>\n",
       "      <td>0.310507</td>\n",
       "      <td>0.141112</td>\n",
       "    </tr>\n",
       "    <tr>\n",
       "      <th>22</th>\n",
       "      <td>66</td>\n",
       "      <td>65.615050</td>\n",
       "      <td>1.580761</td>\n",
       "      <td>1.553595</td>\n",
       "    </tr>\n",
       "    <tr>\n",
       "      <th>23</th>\n",
       "      <td>37</td>\n",
       "      <td>37.593440</td>\n",
       "      <td>-0.465760</td>\n",
       "      <td>-0.423881</td>\n",
       "    </tr>\n",
       "    <tr>\n",
       "      <th>24</th>\n",
       "      <td>31</td>\n",
       "      <td>33.590352</td>\n",
       "      <td>-0.889178</td>\n",
       "      <td>-0.706378</td>\n",
       "    </tr>\n",
       "  </tbody>\n",
       "</table>\n",
       "</div>"
      ],
      "text/plain": [
       "    Actual Scores  Predicted Score  Actual Scores (standardized)  \\\n",
       "0              30        31.588809                     -0.959748   \n",
       "1              54        52.605017                      0.733925   \n",
       "2              35        36.592668                     -0.606899   \n",
       "3              60        59.610419                      1.157343   \n",
       "4              20        19.579547                     -1.665444   \n",
       "5              45        42.597299                      0.098798   \n",
       "6              28        25.584178                     -1.100887   \n",
       "7              50        46.600386                      0.451646   \n",
       "8              65        64.614278                      1.510191   \n",
       "9              38        39.594983                     -0.395190   \n",
       "10             55        54.606560                      0.804494   \n",
       "11             25        24.583406                     -1.312596   \n",
       "12             52        49.602701                      0.592785   \n",
       "13             33        34.591124                     -0.748039   \n",
       "14             58        62.612735                      1.016203   \n",
       "15             68        67.616594                      1.721900   \n",
       "16             22        22.581863                     -1.524305   \n",
       "17             27        29.587265                     -1.171457   \n",
       "18             49        44.598842                      0.381076   \n",
       "19             41        41.596527                     -0.183481   \n",
       "20             53        56.608104                      0.663355   \n",
       "21             48        45.599614                      0.310507   \n",
       "22             66        65.615050                      1.580761   \n",
       "23             37        37.593440                     -0.465760   \n",
       "24             31        33.590352                     -0.889178   \n",
       "\n",
       "    Predicted Score (standardized)  \n",
       "0                        -0.847626  \n",
       "1                         0.635481  \n",
       "2                        -0.494505  \n",
       "3                         1.129850  \n",
       "4                        -1.695116  \n",
       "5                        -0.070760  \n",
       "6                        -1.271371  \n",
       "7                         0.211736  \n",
       "8                         1.482971  \n",
       "9                        -0.282633  \n",
       "10                        0.776729  \n",
       "11                       -1.341995  \n",
       "12                        0.423609  \n",
       "13                       -0.635753  \n",
       "14                        1.341723  \n",
       "15                        1.694843  \n",
       "16                       -1.483243  \n",
       "17                       -0.988874  \n",
       "18                        0.070488  \n",
       "19                       -0.141384  \n",
       "20                        0.917978  \n",
       "21                        0.141112  \n",
       "22                        1.553595  \n",
       "23                       -0.423881  \n",
       "24                       -0.706378  "
      ]
     },
     "execution_count": 29,
     "metadata": {},
     "output_type": "execute_result"
    }
   ],
   "source": [
    "pd.DataFrame({'Actual Scores': y, 'Predicted Score': regressor.predict(x), 'Actual Scores (standardized)': y1, 'Predicted Score (standardized)': regressor1.predict(x1)})"
   ]
  }
 ],
 "metadata": {
  "kernelspec": {
   "display_name": "Python 3 (ipykernel)",
   "language": "python",
   "name": "python3"
  },
  "language_info": {
   "codemirror_mode": {
    "name": "ipython",
    "version": 3
   },
   "file_extension": ".py",
   "mimetype": "text/x-python",
   "name": "python",
   "nbconvert_exporter": "python",
   "pygments_lexer": "ipython3",
   "version": "3.11.5"
  }
 },
 "nbformat": 4,
 "nbformat_minor": 5
}
