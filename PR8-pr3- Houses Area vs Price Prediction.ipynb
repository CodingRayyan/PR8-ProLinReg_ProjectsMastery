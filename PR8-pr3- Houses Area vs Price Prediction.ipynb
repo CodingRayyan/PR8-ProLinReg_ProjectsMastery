{
 "cells": [
  {
   "cell_type": "markdown",
   "id": "b0b4f288",
   "metadata": {},
   "source": [
    "# Project 3:\n",
    "\n",
    "# Predicting price of houses on basis of their area using Linear Regression:\n",
    "######\n",
    "| **Prepared by:** | Rayyan Ahmed.\n",
    "|----------|----------------------------------------------------|\n",
    "| **Date:** | 30th May, 2024"
   ]
  },
  {
   "cell_type": "markdown",
   "id": "a458db35",
   "metadata": {},
   "source": [
    "###\n",
    "## Preparing DataFrame:\n",
    "###"
   ]
  },
  {
   "cell_type": "code",
   "execution_count": 1,
   "id": "bb689db4",
   "metadata": {},
   "outputs": [
    {
     "data": {
      "text/html": [
       "<div>\n",
       "<style scoped>\n",
       "    .dataframe tbody tr th:only-of-type {\n",
       "        vertical-align: middle;\n",
       "    }\n",
       "\n",
       "    .dataframe tbody tr th {\n",
       "        vertical-align: top;\n",
       "    }\n",
       "\n",
       "    .dataframe thead th {\n",
       "        text-align: right;\n",
       "    }\n",
       "</style>\n",
       "<table border=\"1\" class=\"dataframe\">\n",
       "  <thead>\n",
       "    <tr style=\"text-align: right;\">\n",
       "      <th></th>\n",
       "      <th>Area</th>\n",
       "      <th>Price</th>\n",
       "    </tr>\n",
       "  </thead>\n",
       "  <tbody>\n",
       "    <tr>\n",
       "      <th>0</th>\n",
       "      <td>2600</td>\n",
       "      <td>550000</td>\n",
       "    </tr>\n",
       "    <tr>\n",
       "      <th>1</th>\n",
       "      <td>3000</td>\n",
       "      <td>565000</td>\n",
       "    </tr>\n",
       "    <tr>\n",
       "      <th>2</th>\n",
       "      <td>3200</td>\n",
       "      <td>610000</td>\n",
       "    </tr>\n",
       "    <tr>\n",
       "      <th>3</th>\n",
       "      <td>3600</td>\n",
       "      <td>680000</td>\n",
       "    </tr>\n",
       "    <tr>\n",
       "      <th>4</th>\n",
       "      <td>4000</td>\n",
       "      <td>725000</td>\n",
       "    </tr>\n",
       "    <tr>\n",
       "      <th>5</th>\n",
       "      <td>5500</td>\n",
       "      <td>850000</td>\n",
       "    </tr>\n",
       "    <tr>\n",
       "      <th>6</th>\n",
       "      <td>6500</td>\n",
       "      <td>950000</td>\n",
       "    </tr>\n",
       "    <tr>\n",
       "      <th>7</th>\n",
       "      <td>7500</td>\n",
       "      <td>1050000</td>\n",
       "    </tr>\n",
       "    <tr>\n",
       "      <th>8</th>\n",
       "      <td>8500</td>\n",
       "      <td>1150000</td>\n",
       "    </tr>\n",
       "    <tr>\n",
       "      <th>9</th>\n",
       "      <td>9500</td>\n",
       "      <td>1250000</td>\n",
       "    </tr>\n",
       "    <tr>\n",
       "      <th>10</th>\n",
       "      <td>10500</td>\n",
       "      <td>1350000</td>\n",
       "    </tr>\n",
       "    <tr>\n",
       "      <th>11</th>\n",
       "      <td>11500</td>\n",
       "      <td>1450000</td>\n",
       "    </tr>\n",
       "    <tr>\n",
       "      <th>12</th>\n",
       "      <td>12500</td>\n",
       "      <td>1550000</td>\n",
       "    </tr>\n",
       "    <tr>\n",
       "      <th>13</th>\n",
       "      <td>13500</td>\n",
       "      <td>1650000</td>\n",
       "    </tr>\n",
       "    <tr>\n",
       "      <th>14</th>\n",
       "      <td>14500</td>\n",
       "      <td>1750000</td>\n",
       "    </tr>\n",
       "    <tr>\n",
       "      <th>15</th>\n",
       "      <td>15500</td>\n",
       "      <td>1850000</td>\n",
       "    </tr>\n",
       "    <tr>\n",
       "      <th>16</th>\n",
       "      <td>16500</td>\n",
       "      <td>1950000</td>\n",
       "    </tr>\n",
       "    <tr>\n",
       "      <th>17</th>\n",
       "      <td>17500</td>\n",
       "      <td>2050000</td>\n",
       "    </tr>\n",
       "    <tr>\n",
       "      <th>18</th>\n",
       "      <td>18500</td>\n",
       "      <td>2150000</td>\n",
       "    </tr>\n",
       "    <tr>\n",
       "      <th>19</th>\n",
       "      <td>20000</td>\n",
       "      <td>2250000</td>\n",
       "    </tr>\n",
       "  </tbody>\n",
       "</table>\n",
       "</div>"
      ],
      "text/plain": [
       "     Area    Price\n",
       "0    2600   550000\n",
       "1    3000   565000\n",
       "2    3200   610000\n",
       "3    3600   680000\n",
       "4    4000   725000\n",
       "5    5500   850000\n",
       "6    6500   950000\n",
       "7    7500  1050000\n",
       "8    8500  1150000\n",
       "9    9500  1250000\n",
       "10  10500  1350000\n",
       "11  11500  1450000\n",
       "12  12500  1550000\n",
       "13  13500  1650000\n",
       "14  14500  1750000\n",
       "15  15500  1850000\n",
       "16  16500  1950000\n",
       "17  17500  2050000\n",
       "18  18500  2150000\n",
       "19  20000  2250000"
      ]
     },
     "execution_count": 1,
     "metadata": {},
     "output_type": "execute_result"
    }
   ],
   "source": [
    "import pandas as pd\n",
    "\n",
    "a = pd.DataFrame({'Area': [2600, 3000, 3200, 3600, 4000, 5500, 6500, 7500, 8500, 9500, 10500, 11500, 12500,13500, 14500, 15500, 16500, 17500, 18500, 20000],'Price': [550000, 565000, 610000, 680000, 725000, 850000, 950000, 1050000, 1150000, 1250000, 1350000, 1450000, 1550000,1650000, 1750000, 1850000, 1950000, 2050000, 2150000, 2250000]})\n",
    "a"
   ]
  },
  {
   "cell_type": "markdown",
   "id": "e742dafe",
   "metadata": {},
   "source": [
    "###\n",
    "## Plotting DataFrame:\n",
    "###"
   ]
  },
  {
   "cell_type": "code",
   "execution_count": 2,
   "id": "75dabbed",
   "metadata": {},
   "outputs": [
    {
     "data": {
      "image/png": "[encoded data removed]",
      "text/plain": [
       "<Figure size 640x480 with 1 Axes>"
      ]
     },
     "metadata": {},
     "output_type": "display_data"
    }
   ],
   "source": [
    "import matplotlib.pyplot as plt\n",
    "\n",
    "plt.plot(a.Area, a.Price, color = 'red', marker = 'o')\n",
    "plt.xlabel('area (sq.ft)')\n",
    "plt.ylabel('price (US$)')\n",
    "plt.show()"
   ]
  },
  {
   "cell_type": "markdown",
   "id": "9d48cff9",
   "metadata": {},
   "source": [
    "###\n",
    "## Seperating Independent Values(x) and Dependent Values(y):\n",
    "###"
   ]
  },
  {
   "cell_type": "code",
   "execution_count": 27,
   "id": "8083bd37",
   "metadata": {},
   "outputs": [],
   "source": [
    "x = a[['Area']]\n",
    "y = a['Price']\n"
   ]
  },
  {
   "cell_type": "markdown",
   "id": "33cc9f79",
   "metadata": {},
   "source": [
    "###\n",
    "## train_test_split:\n",
    "###"
   ]
  },
  {
   "cell_type": "code",
   "execution_count": 28,
   "id": "5ffd273f",
   "metadata": {},
   "outputs": [],
   "source": [
    "from sklearn.model_selection import train_test_split\n",
    "\n",
    "x_train, x_test, y_train, y_test = train_test_split(x, y, test_size = 0.2, random_state = 0)"
   ]
  },
  {
   "cell_type": "markdown",
   "id": "100ebf5c",
   "metadata": {},
   "source": [
    "###\n",
    "## Getting Shapes:\n",
    "###"
   ]
  },
  {
   "cell_type": "code",
   "execution_count": 29,
   "id": "5bee0508",
   "metadata": {},
   "outputs": [
    {
     "data": {
      "text/plain": [
       "((16, 1), (4, 1), (16,), (4,))"
      ]
     },
     "execution_count": 29,
     "metadata": {},
     "output_type": "execute_result"
    }
   ],
   "source": [
    "x_train.shape, x_test.shape, y_train.shape, y_test.shape"
   ]
  },
  {
   "cell_type": "markdown",
   "id": "2e01a26f",
   "metadata": {},
   "source": [
    "###\n",
    "## Training Algorithm:\n",
    "###"
   ]
  },
  {
   "cell_type": "code",
   "execution_count": 6,
   "id": "a139449d",
   "metadata": {},
   "outputs": [
    {
     "data": {
      "text/html": [
       "<style>#sk-container-id-1 {color: black;}#sk-container-id-1 pre{padding: 0;}#sk-container-id-1 div.sk-toggleable {background-color: white;}#sk-container-id-1 label.sk-toggleable__label {cursor: pointer;display: block;width: 100%;margin-bottom: 0;padding: 0.3em;box-sizing: border-box;text-align: center;}#sk-container-id-1 label.sk-toggleable__label-arrow:before {content: \"▸\";float: left;margin-right: 0.25em;color: #696969;}#sk-container-id-1 label.sk-toggleable__label-arrow:hover:before {color: black;}#sk-container-id-1 div.sk-estimator:hover label.sk-toggleable__label-arrow:before {color: black;}#sk-container-id-1 div.sk-toggleable__content {max-height: 0;max-width: 0;overflow: hidden;text-align: left;background-color: #f0f8ff;}#sk-container-id-1 div.sk-toggleable__content pre {margin: 0.2em;color: black;border-radius: 0.25em;background-color: #f0f8ff;}#sk-container-id-1 input.sk-toggleable__control:checked~div.sk-toggleable__content {max-height: 200px;max-width: 100%;overflow: auto;}#sk-container-id-1 input.sk-toggleable__control:checked~label.sk-toggleable__label-arrow:before {content: \"▾\";}#sk-container-id-1 div.sk-estimator input.sk-toggleable__control:checked~label.sk-toggleable__label {background-color: #d4ebff;}#sk-container-id-1 div.sk-label input.sk-toggleable__control:checked~label.sk-toggleable__label {background-color: #d4ebff;}#sk-container-id-1 input.sk-hidden--visually {border: 0;clip: rect(1px 1px 1px 1px);clip: rect(1px, 1px, 1px, 1px);height: 1px;margin: -1px;overflow: hidden;padding: 0;position: absolute;width: 1px;}#sk-container-id-1 div.sk-estimator {font-family: monospace;background-color: #f0f8ff;border: 1px dotted black;border-radius: 0.25em;box-sizing: border-box;margin-bottom: 0.5em;}#sk-container-id-1 div.sk-estimator:hover {background-color: #d4ebff;}#sk-container-id-1 div.sk-parallel-item::after {content: \"\";width: 100%;border-bottom: 1px solid gray;flex-grow: 1;}#sk-container-id-1 div.sk-label:hover label.sk-toggleable__label {background-color: #d4ebff;}#sk-container-id-1 div.sk-serial::before {content: \"\";position: absolute;border-left: 1px solid gray;box-sizing: border-box;top: 0;bottom: 0;left: 50%;z-index: 0;}#sk-container-id-1 div.sk-serial {display: flex;flex-direction: column;align-items: center;background-color: white;padding-right: 0.2em;padding-left: 0.2em;position: relative;}#sk-container-id-1 div.sk-item {position: relative;z-index: 1;}#sk-container-id-1 div.sk-parallel {display: flex;align-items: stretch;justify-content: center;background-color: white;position: relative;}#sk-container-id-1 div.sk-item::before, #sk-container-id-1 div.sk-parallel-item::before {content: \"\";position: absolute;border-left: 1px solid gray;box-sizing: border-box;top: 0;bottom: 0;left: 50%;z-index: -1;}#sk-container-id-1 div.sk-parallel-item {display: flex;flex-direction: column;z-index: 1;position: relative;background-color: white;}#sk-container-id-1 div.sk-parallel-item:first-child::after {align-self: flex-end;width: 50%;}#sk-container-id-1 div.sk-parallel-item:last-child::after {align-self: flex-start;width: 50%;}#sk-container-id-1 div.sk-parallel-item:only-child::after {width: 0;}#sk-container-id-1 div.sk-dashed-wrapped {border: 1px dashed gray;margin: 0 0.4em 0.5em 0.4em;box-sizing: border-box;padding-bottom: 0.4em;background-color: white;}#sk-container-id-1 div.sk-label label {font-family: monospace;font-weight: bold;display: inline-block;line-height: 1.2em;}#sk-container-id-1 div.sk-label-container {text-align: center;}#sk-container-id-1 div.sk-container {/* jupyter's `normalize.less` sets `[hidden] { display: none; }` but bootstrap.min.css set `[hidden] { display: none !important; }` so we also need the `!important` here to be able to override the default hidden behavior on the sphinx rendered scikit-learn.org. See: https://github.com/scikit-learn/scikit-learn/issues/21755 */display: inline-block !important;position: relative;}#sk-container-id-1 div.sk-text-repr-fallback {display: none;}</style><div id=\"sk-container-id-1\" class=\"sk-top-container\"><div class=\"sk-text-repr-fallback\"><pre>LinearRegression()</pre><b>In a Jupyter environment, please rerun this cell to show the HTML representation or trust the notebook. <br />On GitHub, the HTML representation is unable to render, please try loading this page with nbviewer.org.</b></div><div class=\"sk-container\" hidden><div class=\"sk-item\"><div class=\"sk-estimator sk-toggleable\"><input class=\"sk-toggleable__control sk-hidden--visually\" id=\"sk-estimator-id-1\" type=\"checkbox\" checked><label for=\"sk-estimator-id-1\" class=\"sk-toggleable__label sk-toggleable__label-arrow\">LinearRegression</label><div class=\"sk-toggleable__content\"><pre>LinearRegression()</pre></div></div></div></div></div>"
      ],
      "text/plain": [
       "LinearRegression()"
      ]
     },
     "execution_count": 6,
     "metadata": {},
     "output_type": "execute_result"
    }
   ],
   "source": [
    "from sklearn.linear_model import LinearRegression\n",
    "\n",
    "model = LinearRegression()\n",
    "model.fit(x_train,y_train)"
   ]
  },
  {
   "cell_type": "markdown",
   "id": "05f11e83",
   "metadata": {},
   "source": [
    "###\n",
    "## Predicting Values of unseen data (x_test):\n",
    "###"
   ]
  },
  {
   "cell_type": "code",
   "execution_count": 34,
   "id": "81f1ac72",
   "metadata": {},
   "outputs": [
    {
     "data": {
      "text/plain": [
       "array([2148637.4025974 ,  603760.45454545, 2298141.62337662,\n",
       "       1151942.5974026 ])"
      ]
     },
     "execution_count": 34,
     "metadata": {},
     "output_type": "execute_result"
    }
   ],
   "source": [
    "model.predict(x_test)"
   ]
  },
  {
   "cell_type": "markdown",
   "id": "148400d8",
   "metadata": {},
   "source": [
    "###\n",
    "## DataFrame of actual unseen values (y_test) and predicted unseen values (model.predict(x_test)):\n",
    "###"
   ]
  },
  {
   "cell_type": "code",
   "execution_count": 36,
   "id": "2ab32351",
   "metadata": {},
   "outputs": [
    {
     "data": {
      "text/html": [
       "<div>\n",
       "<style scoped>\n",
       "    .dataframe tbody tr th:only-of-type {\n",
       "        vertical-align: middle;\n",
       "    }\n",
       "\n",
       "    .dataframe tbody tr th {\n",
       "        vertical-align: top;\n",
       "    }\n",
       "\n",
       "    .dataframe thead th {\n",
       "        text-align: right;\n",
       "    }\n",
       "</style>\n",
       "<table border=\"1\" class=\"dataframe\">\n",
       "  <thead>\n",
       "    <tr style=\"text-align: right;\">\n",
       "      <th></th>\n",
       "      <th>Actual Price (y_test)</th>\n",
       "      <th>Predicted Price (model.predict(x_test))</th>\n",
       "    </tr>\n",
       "  </thead>\n",
       "  <tbody>\n",
       "    <tr>\n",
       "      <th>18</th>\n",
       "      <td>2150000</td>\n",
       "      <td>2.148637e+06</td>\n",
       "    </tr>\n",
       "    <tr>\n",
       "      <th>1</th>\n",
       "      <td>565000</td>\n",
       "      <td>6.037605e+05</td>\n",
       "    </tr>\n",
       "    <tr>\n",
       "      <th>19</th>\n",
       "      <td>2250000</td>\n",
       "      <td>2.298142e+06</td>\n",
       "    </tr>\n",
       "    <tr>\n",
       "      <th>8</th>\n",
       "      <td>1150000</td>\n",
       "      <td>1.151943e+06</td>\n",
       "    </tr>\n",
       "  </tbody>\n",
       "</table>\n",
       "</div>"
      ],
      "text/plain": [
       "    Actual Price (y_test)  Predicted Price (model.predict(x_test))\n",
       "18                2150000                             2.148637e+06\n",
       "1                  565000                             6.037605e+05\n",
       "19                2250000                             2.298142e+06\n",
       "8                 1150000                             1.151943e+06"
      ]
     },
     "execution_count": 36,
     "metadata": {},
     "output_type": "execute_result"
    }
   ],
   "source": [
    "pd.DataFrame({'Actual Price (y_test)': y_test, 'Predicted Price (model.predict(x_test))': model.predict(x_test)})"
   ]
  },
  {
   "cell_type": "markdown",
   "id": "298b7170",
   "metadata": {},
   "source": [
    "###\n",
    "## coef_ & intercept_ :\n",
    "###"
   ]
  },
  {
   "cell_type": "code",
   "execution_count": 37,
   "id": "3c2b56a0",
   "metadata": {},
   "outputs": [
    {
     "data": {
      "text/plain": [
       "(array([99.66948052]), 304752.01298701356)"
      ]
     },
     "execution_count": 37,
     "metadata": {},
     "output_type": "execute_result"
    }
   ],
   "source": [
    "model.coef_, model.intercept_"
   ]
  },
  {
   "cell_type": "markdown",
   "id": "09cb48e9",
   "metadata": {},
   "source": [
    "###\n",
    "## Predicting Program:\n",
    "###"
   ]
  },
  {
   "cell_type": "code",
   "execution_count": 38,
   "id": "e6677fc8",
   "metadata": {},
   "outputs": [
    {
     "name": "stdout",
     "output_type": "stream",
     "text": [
      "For how much area you want to predict the price: 8500\n",
      "\n",
      "Details:\n",
      "Area: 8500.0\n",
      "Predicted Price according to 8500.0 area: 1151942.597\n"
     ]
    },
    {
     "name": "stderr",
     "output_type": "stream",
     "text": [
      "C:\\Users\\HP\\anaconda3\\Lib\\site-packages\\sklearn\\base.py:464: UserWarning: X does not have valid feature names, but LinearRegression was fitted with feature names\n",
      "  warnings.warn(\n"
     ]
    }
   ],
   "source": [
    "ask = float(input('For how much area you want to predict the price: '))\n",
    "prediction = model.predict([[ask]])\n",
    "prediction_ = float(prediction)\n",
    "print(f'\\nDetails:\\nArea: {ask}')\n",
    "print(f'Predicted Price according to {ask} area: {prediction_:.3f}')"
   ]
  },
  {
   "cell_type": "code",
   "execution_count": 39,
   "id": "fea182a6",
   "metadata": {},
   "outputs": [
    {
     "name": "stdout",
     "output_type": "stream",
     "text": [
      "R2:0.9980663248898864\n",
      "Mean Absolute Error(MAE): 22551.818181818206\n",
      "Mean Squared Error(MSE): 956404773.5642542\n",
      "Root Mean Squared Error: 150.17262793804403\n"
     ]
    }
   ],
   "source": [
    "from sklearn.metrics import mean_squared_error, mean_absolute_error\n",
    "from sklearn.metrics import r2_score\n",
    "import numpy as np\n",
    "\n",
    "print(f'R2:{r2_score(y_test, model.predict(x_test))}')\n",
    "print(f'Mean Absolute Error(MAE): {mean_absolute_error(y_test, model.predict(x_test))}')\n",
    "print(f'Mean Squared Error(MSE): {mean_squared_error(y_test, model.predict(x_test))}')\n",
    "print(f'Root Mean Squared Error: {np.sqrt(mean_absolute_error(y_test, model.predict(x_test)))}')"
   ]
  },
  {
   "cell_type": "markdown",
   "id": "02810095",
   "metadata": {},
   "source": [
    "###\n",
    "## Standardization :\n",
    "###"
   ]
  },
  {
   "cell_type": "markdown",
   "id": "bf76ff71",
   "metadata": {},
   "source": [
    "###\n",
    "## Importing StandardScalar:\n",
    "###"
   ]
  },
  {
   "cell_type": "code",
   "execution_count": 40,
   "id": "0eaae9c5",
   "metadata": {},
   "outputs": [],
   "source": [
    "from sklearn.preprocessing import StandardScaler"
   ]
  },
  {
   "cell_type": "markdown",
   "id": "726afa4b",
   "metadata": {},
   "source": [
    "###\n",
    "## Standardizing orignal DataFrame (a):\n",
    "###"
   ]
  },
  {
   "cell_type": "code",
   "execution_count": 2,
   "id": "216489ed",
   "metadata": {},
   "outputs": [
    {
     "ename": "NameError",
     "evalue": "name 'a' is not defined",
     "output_type": "error",
     "traceback": [
      "\u001b[1;31m---------------------------------------------------------------------------\u001b[0m",
      "\u001b[1;31mNameError\u001b[0m                                 Traceback (most recent call last)",
      "Cell \u001b[1;32mIn[2], line 1\u001b[0m\n\u001b[1;32m----> 1\u001b[0m a1 \u001b[38;5;241m=\u001b[39m a\u001b[38;5;241m.\u001b[39mcopy()\n\u001b[0;32m      2\u001b[0m scalar \u001b[38;5;241m=\u001b[39m StandardScaler()\n\u001b[0;32m      3\u001b[0m a1_scaled_ \u001b[38;5;241m=\u001b[39m scalar\u001b[38;5;241m.\u001b[39mfit_transform(a1)\n",
      "\u001b[1;31mNameError\u001b[0m: name 'a' is not defined"
     ]
    }
   ],
   "source": [
    "a1 = a.copy()\n",
    "scalar = StandardScaler()\n",
    "a1_scaled_ = scalar.fit_transform(a1)\n",
    "a1_scaled_\n",
    "\n",
    "a1_scaled = pd.DataFrame(a1_scaled_, columns = ['Area','Price'])\n",
    "a1_scaled\n"
   ]
  },
  {
   "cell_type": "markdown",
   "id": "65cadddb",
   "metadata": {},
   "source": [
    "###\n",
    "## Seperating Independent Values(x) and Dependent Values(y):\n",
    "###"
   ]
  },
  {
   "cell_type": "code",
   "execution_count": 44,
   "id": "65a41c93",
   "metadata": {},
   "outputs": [],
   "source": [
    "x1 = a1_scaled[['Area']]\n",
    "y1 = a1_scaled['Price']\n"
   ]
  },
  {
   "cell_type": "markdown",
   "id": "def6524b",
   "metadata": {},
   "source": [
    "###\n",
    "## train_test_split:\n",
    "###"
   ]
  },
  {
   "cell_type": "code",
   "execution_count": 45,
   "id": "9793e905",
   "metadata": {},
   "outputs": [],
   "source": [
    "from sklearn.model_selection import train_test_split\n",
    "\n",
    "x1_train, x1_test, y1_train, y1_test = train_test_split(x1, y1, test_size = 0.2, random_state = 0)"
   ]
  },
  {
   "cell_type": "markdown",
   "id": "51b13e1b",
   "metadata": {},
   "source": [
    "###\n",
    "## Training Algorithm:\n",
    "###"
   ]
  },
  {
   "cell_type": "code",
   "execution_count": 46,
   "id": "0a572b70",
   "metadata": {},
   "outputs": [
    {
     "data": {
      "text/html": [
       "<style>#sk-container-id-3 {color: black;}#sk-container-id-3 pre{padding: 0;}#sk-container-id-3 div.sk-toggleable {background-color: white;}#sk-container-id-3 label.sk-toggleable__label {cursor: pointer;display: block;width: 100%;margin-bottom: 0;padding: 0.3em;box-sizing: border-box;text-align: center;}#sk-container-id-3 label.sk-toggleable__label-arrow:before {content: \"▸\";float: left;margin-right: 0.25em;color: #696969;}#sk-container-id-3 label.sk-toggleable__label-arrow:hover:before {color: black;}#sk-container-id-3 div.sk-estimator:hover label.sk-toggleable__label-arrow:before {color: black;}#sk-container-id-3 div.sk-toggleable__content {max-height: 0;max-width: 0;overflow: hidden;text-align: left;background-color: #f0f8ff;}#sk-container-id-3 div.sk-toggleable__content pre {margin: 0.2em;color: black;border-radius: 0.25em;background-color: #f0f8ff;}#sk-container-id-3 input.sk-toggleable__control:checked~div.sk-toggleable__content {max-height: 200px;max-width: 100%;overflow: auto;}#sk-container-id-3 input.sk-toggleable__control:checked~label.sk-toggleable__label-arrow:before {content: \"▾\";}#sk-container-id-3 div.sk-estimator input.sk-toggleable__control:checked~label.sk-toggleable__label {background-color: #d4ebff;}#sk-container-id-3 div.sk-label input.sk-toggleable__control:checked~label.sk-toggleable__label {background-color: #d4ebff;}#sk-container-id-3 input.sk-hidden--visually {border: 0;clip: rect(1px 1px 1px 1px);clip: rect(1px, 1px, 1px, 1px);height: 1px;margin: -1px;overflow: hidden;padding: 0;position: absolute;width: 1px;}#sk-container-id-3 div.sk-estimator {font-family: monospace;background-color: #f0f8ff;border: 1px dotted black;border-radius: 0.25em;box-sizing: border-box;margin-bottom: 0.5em;}#sk-container-id-3 div.sk-estimator:hover {background-color: #d4ebff;}#sk-container-id-3 div.sk-parallel-item::after {content: \"\";width: 100%;border-bottom: 1px solid gray;flex-grow: 1;}#sk-container-id-3 div.sk-label:hover label.sk-toggleable__label {background-color: #d4ebff;}#sk-container-id-3 div.sk-serial::before {content: \"\";position: absolute;border-left: 1px solid gray;box-sizing: border-box;top: 0;bottom: 0;left: 50%;z-index: 0;}#sk-container-id-3 div.sk-serial {display: flex;flex-direction: column;align-items: center;background-color: white;padding-right: 0.2em;padding-left: 0.2em;position: relative;}#sk-container-id-3 div.sk-item {position: relative;z-index: 1;}#sk-container-id-3 div.sk-parallel {display: flex;align-items: stretch;justify-content: center;background-color: white;position: relative;}#sk-container-id-3 div.sk-item::before, #sk-container-id-3 div.sk-parallel-item::before {content: \"\";position: absolute;border-left: 1px solid gray;box-sizing: border-box;top: 0;bottom: 0;left: 50%;z-index: -1;}#sk-container-id-3 div.sk-parallel-item {display: flex;flex-direction: column;z-index: 1;position: relative;background-color: white;}#sk-container-id-3 div.sk-parallel-item:first-child::after {align-self: flex-end;width: 50%;}#sk-container-id-3 div.sk-parallel-item:last-child::after {align-self: flex-start;width: 50%;}#sk-container-id-3 div.sk-parallel-item:only-child::after {width: 0;}#sk-container-id-3 div.sk-dashed-wrapped {border: 1px dashed gray;margin: 0 0.4em 0.5em 0.4em;box-sizing: border-box;padding-bottom: 0.4em;background-color: white;}#sk-container-id-3 div.sk-label label {font-family: monospace;font-weight: bold;display: inline-block;line-height: 1.2em;}#sk-container-id-3 div.sk-label-container {text-align: center;}#sk-container-id-3 div.sk-container {/* jupyter's `normalize.less` sets `[hidden] { display: none; }` but bootstrap.min.css set `[hidden] { display: none !important; }` so we also need the `!important` here to be able to override the default hidden behavior on the sphinx rendered scikit-learn.org. See: https://github.com/scikit-learn/scikit-learn/issues/21755 */display: inline-block !important;position: relative;}#sk-container-id-3 div.sk-text-repr-fallback {display: none;}</style><div id=\"sk-container-id-3\" class=\"sk-top-container\"><div class=\"sk-text-repr-fallback\"><pre>LinearRegression()</pre><b>In a Jupyter environment, please rerun this cell to show the HTML representation or trust the notebook. <br />On GitHub, the HTML representation is unable to render, please try loading this page with nbviewer.org.</b></div><div class=\"sk-container\" hidden><div class=\"sk-item\"><div class=\"sk-estimator sk-toggleable\"><input class=\"sk-toggleable__control sk-hidden--visually\" id=\"sk-estimator-id-3\" type=\"checkbox\" checked><label for=\"sk-estimator-id-3\" class=\"sk-toggleable__label sk-toggleable__label-arrow\">LinearRegression</label><div class=\"sk-toggleable__content\"><pre>LinearRegression()</pre></div></div></div></div></div>"
      ],
      "text/plain": [
       "LinearRegression()"
      ]
     },
     "execution_count": 46,
     "metadata": {},
     "output_type": "execute_result"
    }
   ],
   "source": [
    "from sklearn.linear_model import LinearRegression\n",
    "\n",
    "model1 = LinearRegression()\n",
    "model1.fit(x1_train, y1_train)"
   ]
  },
  {
   "cell_type": "markdown",
   "id": "870944bb",
   "metadata": {},
   "source": [
    "###\n",
    "## Predicting values of unseen data (x1_test):\n",
    "###"
   ]
  },
  {
   "cell_type": "code",
   "execution_count": 47,
   "id": "8dc97ed2",
   "metadata": {},
   "outputs": [
    {
     "data": {
      "text/plain": [
       "array([ 1.51166707, -1.30322484,  1.78407597, -0.30439222])"
      ]
     },
     "execution_count": 47,
     "metadata": {},
     "output_type": "execute_result"
    }
   ],
   "source": [
    "model1.predict(x1_test)"
   ]
  },
  {
   "cell_type": "markdown",
   "id": "7773415f",
   "metadata": {},
   "source": [
    "###\n",
    "## Actual test values (y1_test) and Predicted test values (model1.predict(x1_test)):\n",
    "###"
   ]
  },
  {
   "cell_type": "code",
   "execution_count": 48,
   "id": "4715a4a2",
   "metadata": {},
   "outputs": [
    {
     "data": {
      "text/html": [
       "<div>\n",
       "<style scoped>\n",
       "    .dataframe tbody tr th:only-of-type {\n",
       "        vertical-align: middle;\n",
       "    }\n",
       "\n",
       "    .dataframe tbody tr th {\n",
       "        vertical-align: top;\n",
       "    }\n",
       "\n",
       "    .dataframe thead th {\n",
       "        text-align: right;\n",
       "    }\n",
       "</style>\n",
       "<table border=\"1\" class=\"dataframe\">\n",
       "  <thead>\n",
       "    <tr style=\"text-align: right;\">\n",
       "      <th></th>\n",
       "      <th>Actual Price (y_test)</th>\n",
       "      <th>Predicted Price (model1.predict(x1_test))</th>\n",
       "    </tr>\n",
       "  </thead>\n",
       "  <tbody>\n",
       "    <tr>\n",
       "      <th>18</th>\n",
       "      <td>1.514150</td>\n",
       "      <td>1.511667</td>\n",
       "    </tr>\n",
       "    <tr>\n",
       "      <th>1</th>\n",
       "      <td>-1.373850</td>\n",
       "      <td>-1.303225</td>\n",
       "    </tr>\n",
       "    <tr>\n",
       "      <th>19</th>\n",
       "      <td>1.696358</td>\n",
       "      <td>1.784076</td>\n",
       "    </tr>\n",
       "    <tr>\n",
       "      <th>8</th>\n",
       "      <td>-0.307932</td>\n",
       "      <td>-0.304392</td>\n",
       "    </tr>\n",
       "  </tbody>\n",
       "</table>\n",
       "</div>"
      ],
      "text/plain": [
       "    Actual Price (y_test)  Predicted Price (model1.predict(x1_test))\n",
       "18               1.514150                                   1.511667\n",
       "1               -1.373850                                  -1.303225\n",
       "19               1.696358                                   1.784076\n",
       "8               -0.307932                                  -0.304392"
      ]
     },
     "execution_count": 48,
     "metadata": {},
     "output_type": "execute_result"
    }
   ],
   "source": [
    "pd.DataFrame({'Actual Price (y_test)': y1_test, 'Predicted Price (model1.predict(x1_test))': model1.predict(x1_test)})"
   ]
  },
  {
   "cell_type": "markdown",
   "id": "ad3efbbd",
   "metadata": {},
   "source": [
    "###\n",
    "## Evaluating Model Performance :\n",
    "###"
   ]
  },
  {
   "cell_type": "code",
   "execution_count": 50,
   "id": "a2cabb24",
   "metadata": {},
   "outputs": [
    {
     "name": "stdout",
     "output_type": "stream",
     "text": [
      "R2:0.9980663248898864\n",
      "Mean Absolute Error(MAE): 0.04109125368244074\n",
      "Mean Squared Error(MSE): 0.0031752461303599187\n",
      "Root Mean Squared Error: 0.20270977697792658\n"
     ]
    }
   ],
   "source": [
    "print(f'R2:{r2_score(y1_test, model1.predict(x1_test))}')\n",
    "print(f'Mean Absolute Error(MAE): {mean_absolute_error(y1_test, model1.predict(x1_test))}')\n",
    "print(f'Mean Squared Error(MSE): {mean_squared_error(y1_test, model1.predict(x1_test))}')\n",
    "print(f'Root Mean Squared Error: {np.sqrt(mean_absolute_error(y1_test, model1.predict(x1_test)))}')"
   ]
  },
  {
   "cell_type": "markdown",
   "id": "b2817bd1",
   "metadata": {},
   "source": [
    "R-squared: This is a statistical measure of how well the regression line fits the actual data. An R-squared of 0.998 indicates a very strong correlation between your predicted prices and the actual prices. In other words, your model is effectively capturing the underlying relationship in the data.\n",
    "\n",
    "Mean Absolute Error (MAE): This is the average difference between the predicted prices and the actual prices. A lower MAE is better, and a value of 22551.82 means that the average difference between your predictions and the actual prices is around $22,551.82.\n",
    "\n",
    "Mean Squared Error (MSE): This is the average squared difference between the predicted prices and the actual prices. Squaring the errors gives more weight to larger errors. A lower MSE is better, and a value of 956404773.56 means that the average squared difference between your predictions and the actual prices is relatively low.\n",
    "\n",
    "Root Mean Squared Error (RMSE): This is the square root of the MSE, and it is another way to measure the difference between the predicted prices and the actual prices. A lower RMSE is better, and a value of 150.17 indicates that the average difference between your predictions and the actual prices is on a similar scale to the data itself."
   ]
  },
  {
   "cell_type": "markdown",
   "id": "e7ec257a",
   "metadata": {},
   "source": [
    "###\n",
    "## Predicting Program:\n",
    "###"
   ]
  },
  {
   "cell_type": "code",
   "execution_count": 52,
   "id": "c85602e5",
   "metadata": {},
   "outputs": [
    {
     "name": "stdout",
     "output_type": "stream",
     "text": [
      "For how much area you want to predict the price: -1.199193\t\n",
      "\n",
      "Details:\n",
      "Area in sqr.foot: -1.199193 (3599.998)\n",
      "Predicted Price according to -1.199193 (3599.998) sqr.foot area: -1.194 (663561.987)\n"
     ]
    },
    {
     "name": "stderr",
     "output_type": "stream",
     "text": [
      "C:\\Users\\HP\\anaconda3\\Lib\\site-packages\\sklearn\\base.py:464: UserWarning: X does not have valid feature names, but LinearRegression was fitted with feature names\n",
      "  warnings.warn(\n"
     ]
    }
   ],
   "source": [
    "ask1 = float(input('For how much area you want to predict the price: '))\n",
    "prediction1 = model1.predict([[ask1]])\n",
    "prediction1_ = float(prediction1)\n",
    "\n",
    "stand_area = ( ask1 * 5520.380422) + 10220.0\n",
    "stand_price = ( prediction1_ * 548822.8311577425) + 1319000.0\n",
    "\n",
    "print(f'\\nDetails:\\nArea in sqr.foot: {ask1} ({stand_area:.3f})')\n",
    "print(f'Predicted Price according to {ask1} ({stand_area:.3f}) sqr.foot area: {prediction1_:.3f} ({stand_price:.3f})')"
   ]
  },
  {
   "cell_type": "markdown",
   "id": "e579e1fb",
   "metadata": {},
   "source": [
    "##\n",
    "## Comparision of test dataset:\n",
    "##"
   ]
  },
  {
   "cell_type": "code",
   "execution_count": 63,
   "id": "859355c9",
   "metadata": {},
   "outputs": [
    {
     "data": {
      "text/html": [
       "<div>\n",
       "<style scoped>\n",
       "    .dataframe tbody tr th:only-of-type {\n",
       "        vertical-align: middle;\n",
       "    }\n",
       "\n",
       "    .dataframe tbody tr th {\n",
       "        vertical-align: top;\n",
       "    }\n",
       "\n",
       "    .dataframe thead th {\n",
       "        text-align: right;\n",
       "    }\n",
       "</style>\n",
       "<table border=\"1\" class=\"dataframe\">\n",
       "  <thead>\n",
       "    <tr style=\"text-align: right;\">\n",
       "      <th></th>\n",
       "      <th>Actual Price</th>\n",
       "      <th>Predicted Price</th>\n",
       "      <th>Actual Price (standardized)</th>\n",
       "      <th>Predicted Price (standardized)</th>\n",
       "    </tr>\n",
       "  </thead>\n",
       "  <tbody>\n",
       "    <tr>\n",
       "      <th>18</th>\n",
       "      <td>2150000</td>\n",
       "      <td>2148637</td>\n",
       "      <td>1.514150</td>\n",
       "      <td>1.511667</td>\n",
       "    </tr>\n",
       "    <tr>\n",
       "      <th>1</th>\n",
       "      <td>565000</td>\n",
       "      <td>603760</td>\n",
       "      <td>-1.373850</td>\n",
       "      <td>-1.303225</td>\n",
       "    </tr>\n",
       "    <tr>\n",
       "      <th>19</th>\n",
       "      <td>2250000</td>\n",
       "      <td>2298141</td>\n",
       "      <td>1.696358</td>\n",
       "      <td>1.784076</td>\n",
       "    </tr>\n",
       "    <tr>\n",
       "      <th>8</th>\n",
       "      <td>1150000</td>\n",
       "      <td>1151942</td>\n",
       "      <td>-0.307932</td>\n",
       "      <td>-0.304392</td>\n",
       "    </tr>\n",
       "  </tbody>\n",
       "</table>\n",
       "</div>"
      ],
      "text/plain": [
       "    Actual Price  Predicted Price  Actual Price (standardized)  \\\n",
       "18       2150000          2148637                     1.514150   \n",
       "1         565000           603760                    -1.373850   \n",
       "19       2250000          2298141                     1.696358   \n",
       "8        1150000          1151942                    -0.307932   \n",
       "\n",
       "    Predicted Price (standardized)  \n",
       "18                        1.511667  \n",
       "1                        -1.303225  \n",
       "19                        1.784076  \n",
       "8                        -0.304392  "
      ]
     },
     "execution_count": 63,
     "metadata": {},
     "output_type": "execute_result"
    }
   ],
   "source": [
    "y1_org = ( y1_test * 548822.8311577425) + 1319000.0\n",
    "\n",
    "pd.DataFrame({'Actual Price': y_test, 'Predicted Price': model.predict(x_test).astype(int), 'Actual Price (standardized)': y1_test, 'Predicted Price (standardized)': model1.predict(x1_test)})\n"
   ]
  },
  {
   "cell_type": "markdown",
   "id": "f7de4dc8",
   "metadata": {},
   "source": [
    "###\n",
    "## Comparision of train dataset:\n",
    "###"
   ]
  },
  {
   "cell_type": "code",
   "execution_count": 64,
   "id": "4c77f997",
   "metadata": {},
   "outputs": [
    {
     "data": {
      "text/html": [
       "<div>\n",
       "<style scoped>\n",
       "    .dataframe tbody tr th:only-of-type {\n",
       "        vertical-align: middle;\n",
       "    }\n",
       "\n",
       "    .dataframe tbody tr th {\n",
       "        vertical-align: top;\n",
       "    }\n",
       "\n",
       "    .dataframe thead th {\n",
       "        text-align: right;\n",
       "    }\n",
       "</style>\n",
       "<table border=\"1\" class=\"dataframe\">\n",
       "  <thead>\n",
       "    <tr style=\"text-align: right;\">\n",
       "      <th></th>\n",
       "      <th>Actual Price</th>\n",
       "      <th>Predicted Price</th>\n",
       "      <th>Actual Price (standardized)</th>\n",
       "      <th>Predicted Price (standardized)</th>\n",
       "    </tr>\n",
       "  </thead>\n",
       "  <tbody>\n",
       "    <tr>\n",
       "      <th>10</th>\n",
       "      <td>1350000</td>\n",
       "      <td>1351281</td>\n",
       "      <td>0.056485</td>\n",
       "      <td>0.058820</td>\n",
       "    </tr>\n",
       "    <tr>\n",
       "      <th>17</th>\n",
       "      <td>2050000</td>\n",
       "      <td>2048967</td>\n",
       "      <td>1.331942</td>\n",
       "      <td>1.330061</td>\n",
       "    </tr>\n",
       "    <tr>\n",
       "      <th>6</th>\n",
       "      <td>950000</td>\n",
       "      <td>952603</td>\n",
       "      <td>-0.672348</td>\n",
       "      <td>-0.667604</td>\n",
       "    </tr>\n",
       "    <tr>\n",
       "      <th>13</th>\n",
       "      <td>1650000</td>\n",
       "      <td>1650289</td>\n",
       "      <td>0.603109</td>\n",
       "      <td>0.603637</td>\n",
       "    </tr>\n",
       "    <tr>\n",
       "      <th>4</th>\n",
       "      <td>725000</td>\n",
       "      <td>703429</td>\n",
       "      <td>-1.082316</td>\n",
       "      <td>-1.121619</td>\n",
       "    </tr>\n",
       "    <tr>\n",
       "      <th>2</th>\n",
       "      <td>610000</td>\n",
       "      <td>623694</td>\n",
       "      <td>-1.291856</td>\n",
       "      <td>-1.266904</td>\n",
       "    </tr>\n",
       "    <tr>\n",
       "      <th>5</th>\n",
       "      <td>850000</td>\n",
       "      <td>852934</td>\n",
       "      <td>-0.854556</td>\n",
       "      <td>-0.849210</td>\n",
       "    </tr>\n",
       "    <tr>\n",
       "      <th>14</th>\n",
       "      <td>1750000</td>\n",
       "      <td>1749959</td>\n",
       "      <td>0.785317</td>\n",
       "      <td>0.785243</td>\n",
       "    </tr>\n",
       "    <tr>\n",
       "      <th>9</th>\n",
       "      <td>1250000</td>\n",
       "      <td>1251612</td>\n",
       "      <td>-0.125724</td>\n",
       "      <td>-0.122786</td>\n",
       "    </tr>\n",
       "    <tr>\n",
       "      <th>7</th>\n",
       "      <td>1050000</td>\n",
       "      <td>1052273</td>\n",
       "      <td>-0.490140</td>\n",
       "      <td>-0.485998</td>\n",
       "    </tr>\n",
       "    <tr>\n",
       "      <th>16</th>\n",
       "      <td>1950000</td>\n",
       "      <td>1949298</td>\n",
       "      <td>1.149734</td>\n",
       "      <td>1.148455</td>\n",
       "    </tr>\n",
       "    <tr>\n",
       "      <th>11</th>\n",
       "      <td>1450000</td>\n",
       "      <td>1450951</td>\n",
       "      <td>0.238693</td>\n",
       "      <td>0.240426</td>\n",
       "    </tr>\n",
       "    <tr>\n",
       "      <th>3</th>\n",
       "      <td>680000</td>\n",
       "      <td>663562</td>\n",
       "      <td>-1.164310</td>\n",
       "      <td>-1.194261</td>\n",
       "    </tr>\n",
       "    <tr>\n",
       "      <th>0</th>\n",
       "      <td>550000</td>\n",
       "      <td>563892</td>\n",
       "      <td>-1.401181</td>\n",
       "      <td>-1.375867</td>\n",
       "    </tr>\n",
       "    <tr>\n",
       "      <th>15</th>\n",
       "      <td>1850000</td>\n",
       "      <td>1849628</td>\n",
       "      <td>0.967525</td>\n",
       "      <td>0.966849</td>\n",
       "    </tr>\n",
       "    <tr>\n",
       "      <th>12</th>\n",
       "      <td>1550000</td>\n",
       "      <td>1550620</td>\n",
       "      <td>0.420901</td>\n",
       "      <td>0.422031</td>\n",
       "    </tr>\n",
       "  </tbody>\n",
       "</table>\n",
       "</div>"
      ],
      "text/plain": [
       "    Actual Price  Predicted Price  Actual Price (standardized)  \\\n",
       "10       1350000          1351281                     0.056485   \n",
       "17       2050000          2048967                     1.331942   \n",
       "6         950000           952603                    -0.672348   \n",
       "13       1650000          1650289                     0.603109   \n",
       "4         725000           703429                    -1.082316   \n",
       "2         610000           623694                    -1.291856   \n",
       "5         850000           852934                    -0.854556   \n",
       "14       1750000          1749959                     0.785317   \n",
       "9        1250000          1251612                    -0.125724   \n",
       "7        1050000          1052273                    -0.490140   \n",
       "16       1950000          1949298                     1.149734   \n",
       "11       1450000          1450951                     0.238693   \n",
       "3         680000           663562                    -1.164310   \n",
       "0         550000           563892                    -1.401181   \n",
       "15       1850000          1849628                     0.967525   \n",
       "12       1550000          1550620                     0.420901   \n",
       "\n",
       "    Predicted Price (standardized)  \n",
       "10                        0.058820  \n",
       "17                        1.330061  \n",
       "6                        -0.667604  \n",
       "13                        0.603637  \n",
       "4                        -1.121619  \n",
       "2                        -1.266904  \n",
       "5                        -0.849210  \n",
       "14                        0.785243  \n",
       "9                        -0.122786  \n",
       "7                        -0.485998  \n",
       "16                        1.148455  \n",
       "11                        0.240426  \n",
       "3                        -1.194261  \n",
       "0                        -1.375867  \n",
       "15                        0.966849  \n",
       "12                        0.422031  "
      ]
     },
     "execution_count": 64,
     "metadata": {},
     "output_type": "execute_result"
    }
   ],
   "source": [
    "pd.DataFrame({'Actual Price': y_train, 'Predicted Price': model.predict(x_train).astype(int), 'Actual Price (standardized)': y1_train, 'Predicted Price (standardized)': model1.predict(x1_train)})\n"
   ]
  },
  {
   "cell_type": "markdown",
   "id": "3b764110",
   "metadata": {},
   "source": [
    "###\n",
    "## Comparision of whole dataset:\n",
    "###"
   ]
  },
  {
   "cell_type": "code",
   "execution_count": 66,
   "id": "f29de224",
   "metadata": {},
   "outputs": [
    {
     "data": {
      "text/html": [
       "<div>\n",
       "<style scoped>\n",
       "    .dataframe tbody tr th:only-of-type {\n",
       "        vertical-align: middle;\n",
       "    }\n",
       "\n",
       "    .dataframe tbody tr th {\n",
       "        vertical-align: top;\n",
       "    }\n",
       "\n",
       "    .dataframe thead th {\n",
       "        text-align: right;\n",
       "    }\n",
       "</style>\n",
       "<table border=\"1\" class=\"dataframe\">\n",
       "  <thead>\n",
       "    <tr style=\"text-align: right;\">\n",
       "      <th></th>\n",
       "      <th>Actual Price</th>\n",
       "      <th>Predicted Price</th>\n",
       "      <th>Actual Price (standardized)</th>\n",
       "      <th>Predicted Price (standardized)</th>\n",
       "    </tr>\n",
       "  </thead>\n",
       "  <tbody>\n",
       "    <tr>\n",
       "      <th>0</th>\n",
       "      <td>550000</td>\n",
       "      <td>563892</td>\n",
       "      <td>-1.401181</td>\n",
       "      <td>-1.375867</td>\n",
       "    </tr>\n",
       "    <tr>\n",
       "      <th>1</th>\n",
       "      <td>565000</td>\n",
       "      <td>603760</td>\n",
       "      <td>-1.373850</td>\n",
       "      <td>-1.303225</td>\n",
       "    </tr>\n",
       "    <tr>\n",
       "      <th>2</th>\n",
       "      <td>610000</td>\n",
       "      <td>623694</td>\n",
       "      <td>-1.291856</td>\n",
       "      <td>-1.266904</td>\n",
       "    </tr>\n",
       "    <tr>\n",
       "      <th>3</th>\n",
       "      <td>680000</td>\n",
       "      <td>663562</td>\n",
       "      <td>-1.164310</td>\n",
       "      <td>-1.194261</td>\n",
       "    </tr>\n",
       "    <tr>\n",
       "      <th>4</th>\n",
       "      <td>725000</td>\n",
       "      <td>703429</td>\n",
       "      <td>-1.082316</td>\n",
       "      <td>-1.121619</td>\n",
       "    </tr>\n",
       "    <tr>\n",
       "      <th>5</th>\n",
       "      <td>850000</td>\n",
       "      <td>852934</td>\n",
       "      <td>-0.854556</td>\n",
       "      <td>-0.849210</td>\n",
       "    </tr>\n",
       "    <tr>\n",
       "      <th>6</th>\n",
       "      <td>950000</td>\n",
       "      <td>952603</td>\n",
       "      <td>-0.672348</td>\n",
       "      <td>-0.667604</td>\n",
       "    </tr>\n",
       "    <tr>\n",
       "      <th>7</th>\n",
       "      <td>1050000</td>\n",
       "      <td>1052273</td>\n",
       "      <td>-0.490140</td>\n",
       "      <td>-0.485998</td>\n",
       "    </tr>\n",
       "    <tr>\n",
       "      <th>8</th>\n",
       "      <td>1150000</td>\n",
       "      <td>1151942</td>\n",
       "      <td>-0.307932</td>\n",
       "      <td>-0.304392</td>\n",
       "    </tr>\n",
       "    <tr>\n",
       "      <th>9</th>\n",
       "      <td>1250000</td>\n",
       "      <td>1251612</td>\n",
       "      <td>-0.125724</td>\n",
       "      <td>-0.122786</td>\n",
       "    </tr>\n",
       "    <tr>\n",
       "      <th>10</th>\n",
       "      <td>1350000</td>\n",
       "      <td>1351281</td>\n",
       "      <td>0.056485</td>\n",
       "      <td>0.058820</td>\n",
       "    </tr>\n",
       "    <tr>\n",
       "      <th>11</th>\n",
       "      <td>1450000</td>\n",
       "      <td>1450951</td>\n",
       "      <td>0.238693</td>\n",
       "      <td>0.240426</td>\n",
       "    </tr>\n",
       "    <tr>\n",
       "      <th>12</th>\n",
       "      <td>1550000</td>\n",
       "      <td>1550620</td>\n",
       "      <td>0.420901</td>\n",
       "      <td>0.422031</td>\n",
       "    </tr>\n",
       "    <tr>\n",
       "      <th>13</th>\n",
       "      <td>1650000</td>\n",
       "      <td>1650289</td>\n",
       "      <td>0.603109</td>\n",
       "      <td>0.603637</td>\n",
       "    </tr>\n",
       "    <tr>\n",
       "      <th>14</th>\n",
       "      <td>1750000</td>\n",
       "      <td>1749959</td>\n",
       "      <td>0.785317</td>\n",
       "      <td>0.785243</td>\n",
       "    </tr>\n",
       "    <tr>\n",
       "      <th>15</th>\n",
       "      <td>1850000</td>\n",
       "      <td>1849628</td>\n",
       "      <td>0.967525</td>\n",
       "      <td>0.966849</td>\n",
       "    </tr>\n",
       "    <tr>\n",
       "      <th>16</th>\n",
       "      <td>1950000</td>\n",
       "      <td>1949298</td>\n",
       "      <td>1.149734</td>\n",
       "      <td>1.148455</td>\n",
       "    </tr>\n",
       "    <tr>\n",
       "      <th>17</th>\n",
       "      <td>2050000</td>\n",
       "      <td>2048967</td>\n",
       "      <td>1.331942</td>\n",
       "      <td>1.330061</td>\n",
       "    </tr>\n",
       "    <tr>\n",
       "      <th>18</th>\n",
       "      <td>2150000</td>\n",
       "      <td>2148637</td>\n",
       "      <td>1.514150</td>\n",
       "      <td>1.511667</td>\n",
       "    </tr>\n",
       "    <tr>\n",
       "      <th>19</th>\n",
       "      <td>2250000</td>\n",
       "      <td>2298141</td>\n",
       "      <td>1.696358</td>\n",
       "      <td>1.784076</td>\n",
       "    </tr>\n",
       "  </tbody>\n",
       "</table>\n",
       "</div>"
      ],
      "text/plain": [
       "    Actual Price  Predicted Price  Actual Price (standardized)  \\\n",
       "0         550000           563892                    -1.401181   \n",
       "1         565000           603760                    -1.373850   \n",
       "2         610000           623694                    -1.291856   \n",
       "3         680000           663562                    -1.164310   \n",
       "4         725000           703429                    -1.082316   \n",
       "5         850000           852934                    -0.854556   \n",
       "6         950000           952603                    -0.672348   \n",
       "7        1050000          1052273                    -0.490140   \n",
       "8        1150000          1151942                    -0.307932   \n",
       "9        1250000          1251612                    -0.125724   \n",
       "10       1350000          1351281                     0.056485   \n",
       "11       1450000          1450951                     0.238693   \n",
       "12       1550000          1550620                     0.420901   \n",
       "13       1650000          1650289                     0.603109   \n",
       "14       1750000          1749959                     0.785317   \n",
       "15       1850000          1849628                     0.967525   \n",
       "16       1950000          1949298                     1.149734   \n",
       "17       2050000          2048967                     1.331942   \n",
       "18       2150000          2148637                     1.514150   \n",
       "19       2250000          2298141                     1.696358   \n",
       "\n",
       "    Predicted Price (standardized)  \n",
       "0                        -1.375867  \n",
       "1                        -1.303225  \n",
       "2                        -1.266904  \n",
       "3                        -1.194261  \n",
       "4                        -1.121619  \n",
       "5                        -0.849210  \n",
       "6                        -0.667604  \n",
       "7                        -0.485998  \n",
       "8                        -0.304392  \n",
       "9                        -0.122786  \n",
       "10                        0.058820  \n",
       "11                        0.240426  \n",
       "12                        0.422031  \n",
       "13                        0.603637  \n",
       "14                        0.785243  \n",
       "15                        0.966849  \n",
       "16                        1.148455  \n",
       "17                        1.330061  \n",
       "18                        1.511667  \n",
       "19                        1.784076  "
      ]
     },
     "execution_count": 66,
     "metadata": {},
     "output_type": "execute_result"
    }
   ],
   "source": [
    "pd.DataFrame({'Actual Price': y, 'Predicted Price': model.predict(x).astype(int), 'Actual Price (standardized)': y1, 'Predicted Price (standardized)': model1.predict(x1)})\n"
   ]
  }
 ],
 "metadata": {
  "kernelspec": {
   "display_name": "Python 3 (ipykernel)",
   "language": "python",
   "name": "python3"
  },
  "language_info": {
   "codemirror_mode": {
    "name": "ipython",
    "version": 3
   },
   "file_extension": ".py",
   "mimetype": "text/x-python",
   "name": "python",
   "nbconvert_exporter": "python",
   "pygments_lexer": "ipython3",
   "version": "3.11.5"
  }
 },
 "nbformat": 4,
 "nbformat_minor": 5
}
